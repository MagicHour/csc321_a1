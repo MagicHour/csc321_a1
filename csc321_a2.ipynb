{
  "nbformat": 4,
  "nbformat_minor": 0,
  "metadata": {
    "colab": {
      "name": "Copy of csc321_a2.ipynb",
      "provenance": [],
      "collapsed_sections": [],
      "toc_visible": true,
      "include_colab_link": true
    },
    "kernelspec": {
      "name": "python3",
      "display_name": "Python 3"
    }
  },
  "cells": [
    {
      "cell_type": "markdown",
      "metadata": {
        "id": "view-in-github",
        "colab_type": "text"
      },
      "source": [
        "<a href=\"https://colab.research.google.com/github/MagicHour/csc321_a1/blob/master/csc321_a2.ipynb\" target=\"_parent\"><img src=\"https://colab.research.google.com/assets/colab-badge.svg\" alt=\"Open In Colab\"/></a>"
      ]
    },
    {
      "cell_type": "markdown",
      "metadata": {
        "id": "VgimEp7IsDA2",
        "colab_type": "text"
      },
      "source": [
        "# CSC321H5 Project 2.\n",
        "\n",
        "**Deadline**: Thursday, Feb. 13, by 9pm\n",
        "\n",
        "**Submission**: Submit a PDF export of the completed notebook. \n",
        "\n",
        "**Late Submission**: Please see the syllabus for the late submission criteria.\n",
        "\n",
        "Based on an assignment by George Dahl, Jing Yao Li, and Roger Grosse\n",
        "\n",
        "In this assignment, we will make a neural network that can predict the next word\n",
        "in a sentence given the previous three. \n",
        "We'll explore a couple of different models to perform this prediction task. We will also do this\n",
        "problem twice: once in PyTorch, and once using numpy. When using numpy, you'll implement\n",
        "the backpropagation computation.\n",
        "\n",
        "In doing this prediction task, our neural networks will learn about *words* and about\n",
        "how to represent words. We'll explore the *vector representations* of words that our\n",
        "model produces, and analyze these representations.\n",
        "\n",
        "You may modify the starter code as you see fit, including changing the signatures of\n",
        "functions and adding/removing helper functions. However, please make sure that your\n",
        "TA can understand what you are doing and why."
      ]
    },
    {
      "cell_type": "code",
      "metadata": {
        "id": "c0O6d0qEsDA-",
        "colab_type": "code",
        "colab": {}
      },
      "source": [
        "import pandas\n",
        "import numpy as np\n",
        "import matplotlib.pyplot as plt\n",
        "\n",
        "import torch\n",
        "import torch.nn as nn\n",
        "import torch.optim as optim"
      ],
      "execution_count": 0,
      "outputs": []
    },
    {
      "cell_type": "markdown",
      "metadata": {
        "id": "F9g1eX3QsDBR",
        "colab_type": "text"
      },
      "source": [
        "## Question 1. Data\n",
        "\n",
        "With any machine learning problem, the first thing that we would want to do\n",
        "is to get an intuitive understanding of what our data looks like. Download the file\n",
        "`raw_sentences.txt` from `https://www.cs.toronto.edu/~lczhang/321/hw/raw_sentences.txt`\n",
        "and upload it to Google Drive.\n",
        "Then, mount Google Drive from your Google Colab notebook:"
      ]
    },
    {
      "cell_type": "code",
      "metadata": {
        "id": "nRN6paNBsDBU",
        "colab_type": "code",
        "outputId": "389ea4e0-4a0e-401b-d30d-faec262dc83f",
        "colab": {
          "base_uri": "https://localhost:8080/",
          "height": 122
        }
      },
      "source": [
        "from google.colab import drive\n",
        "drive.mount('/content/gdrive')"
      ],
      "execution_count": 4,
      "outputs": [
        {
          "output_type": "stream",
          "text": [
            "Go to this URL in a browser: https://accounts.google.com/o/oauth2/auth?client_id=947318989803-6bn6qk8qdgf4n4g3pfee6491hc0brc4i.apps.googleusercontent.com&redirect_uri=urn%3aietf%3awg%3aoauth%3a2.0%3aoob&response_type=code&scope=email%20https%3a%2f%2fwww.googleapis.com%2fauth%2fdocs.test%20https%3a%2f%2fwww.googleapis.com%2fauth%2fdrive%20https%3a%2f%2fwww.googleapis.com%2fauth%2fdrive.photos.readonly%20https%3a%2f%2fwww.googleapis.com%2fauth%2fpeopleapi.readonly\n",
            "\n",
            "Enter your authorization code:\n",
            "··········\n",
            "Mounted at /content/gdrive\n"
          ],
          "name": "stdout"
        }
      ]
    },
    {
      "cell_type": "markdown",
      "metadata": {
        "id": "S_7cApKvsDBh",
        "colab_type": "text"
      },
      "source": [
        "Find the path to `raw_sentences.txt`:"
      ]
    },
    {
      "cell_type": "code",
      "metadata": {
        "id": "FA-6IOmcsDBk",
        "colab_type": "code",
        "colab": {}
      },
      "source": [
        "file_path = '/content/gdrive/My Drive/CSC321/raw_sentences.txt' # TODO - UPDATE ME!"
      ],
      "execution_count": 0,
      "outputs": []
    },
    {
      "cell_type": "markdown",
      "metadata": {
        "id": "-6MudcKisDBv",
        "colab_type": "text"
      },
      "source": [
        "You might find it helpful to know that you can run shell commands (like `ls`) by\n",
        "using `!` in Google Colab, like this:"
      ]
    },
    {
      "cell_type": "code",
      "metadata": {
        "id": "uau8M38gsDBy",
        "colab_type": "code",
        "outputId": "97ecb410-87a8-4b00-9eef-a2a6fed261e6",
        "colab": {
          "base_uri": "https://localhost:8080/",
          "height": 969
        }
      },
      "source": [
        "!ls /content/gdrive/My\\ Drive/\n",
        "#!mkdir /content/gdrive/My\\ Drive/CSC321"
      ],
      "execution_count": 6,
      "outputs": [
        {
          "output_type": "stream",
          "text": [
            " 01Lecture-Introduction.doc\n",
            " 01Lecture-Introduction.gdoc\n",
            "'01Lecture-SummarizingData (1).gdoc'\n",
            " 01Lecture-SummarizingData.doc\n",
            " 01Lecture-SummarizingData.gdoc\n",
            "'42 Target pallets total units 6_1.xlsx'\n",
            "'42 Target pallets total units 6_1.xlsx.gsheet'\n",
            " 44_new_target_6_1.xlsx\n",
            " 44_new_target_6_1.xlsx.gsheet\n",
            "'Business Hours.gdoc'\n",
            "'Colab Notebooks'\n",
            "'Copy of Dokkan Damage Calculator v0.2.gsheet'\n",
            "'Copy of Pokémon Go IV Calculator.gsheet'\n",
            "'Copy of raw_sentences.txt'\n",
            " Courses.gdoc\n",
            " CSC290\n",
            " CSC321\n",
            " Dock_Ward_48x48.jpg\n",
            "'Encounter_10_-_Converted_Windmill_34x25_(DMs).jpg'\n",
            " Encounter_1_-_Alley_35x25.jpg\n",
            "'Encounter_4_-_Mausoleum_22x30(DM).jpg'\n",
            "'Encounter_7_-_Old_Tower_20x22_(DM).jpg'\n",
            "'Encounter_8_-_Courthouse_34x22_(DM).jpg'\n",
            "'Encounter_9_-_Cellar_Complex_32x24_(DM).jpg'\n",
            " File.pdf\n",
            "'How to get started with Drive.pdf'\n",
            " Ilzantil_Street_19x17.jpg\n",
            "'Lost Mine of Phandelver.pdf'\n",
            "'Midterm Review (1).gdoc'\n",
            "'Midterm Review.gdoc'\n",
            "'Midterm Review.txt'\n",
            " Night_Dock_Ward_48x48.jpg\n",
            " Night_Ilzantil_Street_19x17.jpg\n",
            "'Pallets Analysis 20170605.xlsx'\n",
            "'Pallets Analysis 20170605.xlsx.gsheet'\n",
            "'PRA0119 (1).csv'\n",
            "'PRA0119 (1).gsheet'\n",
            " PRA0119.csv\n",
            " PRA0119.gsheet\n",
            " PRA119.gsheet\n",
            "'Questions (1).gdoc'\n",
            "'Questions (2).gdoc'\n",
            " Questions.gdoc\n",
            "'Rats_Nest_40x20_(DMs).jpg'\n",
            " Something.gdraw\n",
            "'The Homebrewery - NaturalCrit.pdf'\n",
            " Trades_Ward_20x20.jpg\n",
            " Ubuntu804Server_owasp.zip\n",
            "'Untitled spreadsheet (1).gsheet'\n",
            "'Untitled spreadsheet.gsheet'\n",
            "'Vault_of_the_Dragon_68x60_(DMs).jpg'\n",
            "'WaterdeepDragonHeist_Chapter_4 (1).gdoc'\n",
            " WaterdeepDragonHeist_Chapter_4.gdoc\n",
            "'Waterdeep Expanded Faction Missions.pdf'\n",
            "'Weirdbottles_Concoctions_15x10_(DMs).jpg'\n",
            "'Xanathar_Guild_Hideout_30x22_(DMs_version).jpg'\n"
          ],
          "name": "stdout"
        }
      ]
    },
    {
      "cell_type": "markdown",
      "metadata": {
        "id": "OMKBG6yhsDB9",
        "colab_type": "text"
      },
      "source": [
        "The following code reads the sentences in our file, split each sentence into\n",
        "its individual words, and stores the sentences (list of words) in the\n",
        "variable `sentences`."
      ]
    },
    {
      "cell_type": "code",
      "metadata": {
        "id": "czUHB83QsDCA",
        "colab_type": "code",
        "colab": {}
      },
      "source": [
        "sentences = []\n",
        "for line in open(file_path):\n",
        "    words = line.split()\n",
        "    sentence = [word.lower() for word in words]\n",
        "    sentences.append(sentence)"
      ],
      "execution_count": 0,
      "outputs": []
    },
    {
      "cell_type": "markdown",
      "metadata": {
        "id": "0YaHUlGosDCK",
        "colab_type": "text"
      },
      "source": [
        "There are 97,162 sentences in total, and \n",
        "these sentences are composed of 250 distinct words."
      ]
    },
    {
      "cell_type": "code",
      "metadata": {
        "id": "qQhWKI_tsDCQ",
        "colab_type": "code",
        "outputId": "658c4e65-8f03-4b06-95cd-7b7b7cf0dda9",
        "colab": {
          "base_uri": "https://localhost:8080/",
          "height": 51
        }
      },
      "source": [
        "vocab = set([w for s in sentences for w in s])\n",
        "print(len(sentences)) # 97162\n",
        "print(len(vocab)) # 250"
      ],
      "execution_count": 8,
      "outputs": [
        {
          "output_type": "stream",
          "text": [
            "97162\n",
            "250\n"
          ],
          "name": "stdout"
        }
      ]
    },
    {
      "cell_type": "markdown",
      "metadata": {
        "id": "J-3G6AeosDCb",
        "colab_type": "text"
      },
      "source": [
        "We'll separate our data into training, validation, and test.\n",
        "We'll use `10,000 sentences for test, 10,000 for validation, and\n",
        "the rest for training."
      ]
    },
    {
      "cell_type": "code",
      "metadata": {
        "id": "QHmgsN_usDCe",
        "colab_type": "code",
        "colab": {}
      },
      "source": [
        "test, valid, train = sentences[:10000], sentences[10000:20000], sentences[20000:]"
      ],
      "execution_count": 0,
      "outputs": []
    },
    {
      "cell_type": "markdown",
      "metadata": {
        "id": "q6dN4GBCsDCn",
        "colab_type": "text"
      },
      "source": [
        "### Part (a) -- 2 pts\n",
        "\n",
        "Display 10 sentences in the training set.\n",
        "Explain how punctuations are treated in our word representation, and how words\n",
        "with apostrophes are represented."
      ]
    },
    {
      "cell_type": "code",
      "metadata": {
        "id": "i1nUsdBmsDCr",
        "colab_type": "code",
        "outputId": "309ea2a7-f1ae-4fe6-b0b7-f5c4008a1a98",
        "colab": {
          "base_uri": "https://localhost:8080/",
          "height": 54
        }
      },
      "source": [
        "# Your code goes here\n",
        "print(sentences[:10])\n",
        "#Words with apostrophes are represented as 2 words, the first half being the\n",
        "#base word, the second half being the contraction including the apostrophe."
      ],
      "execution_count": 10,
      "outputs": [
        {
          "output_type": "stream",
          "text": [
            "[['no', ',', 'he', 'says', 'now', '.'], ['and', 'what', 'did', 'he', 'do', '?'], ['the', 'money', \"'s\", 'there', '.'], ['that', 'was', 'less', 'than', 'a', 'year', 'ago', '.'], ['but', 'he', 'made', 'only', 'the', 'first', '.'], ['there', \"'s\", 'still', 'time', 'for', 'them', 'to', 'do', 'it', '.'], ['but', 'he', 'should', 'nt', 'have', '.'], ['they', 'have', 'to', 'come', 'down', 'to', 'the', 'people', '.'], ['i', 'do', 'nt', 'know', 'where', 'that', 'is', '.'], ['no', ',', 'i', 'would', 'nt', '.']]\n"
          ],
          "name": "stdout"
        }
      ]
    },
    {
      "cell_type": "markdown",
      "metadata": {
        "id": "-esgFlhtsDC3",
        "colab_type": "text"
      },
      "source": [
        "### Part (b) -- 2 pts\n",
        "\n",
        "What are the 10 most common words in the vocabulary? How often does each of these\n",
        "words appear in the training sentences? Express the second quantity a percentage\n",
        "(i.e. number of occurences of the  word / total number of words in the training set).\n",
        "\n",
        "These are good quantities to compute, because one of the first things a machine learning\n",
        "model will learn is to predict the **most common** class. Getting a sense of the\n",
        "distribution of our data will help you understand our model's behaviour.\n",
        "\n",
        "You can use Python's `collections.Counter` class if you would like to."
      ]
    },
    {
      "cell_type": "code",
      "metadata": {
        "id": "lBOqB6klsDC7",
        "colab_type": "code",
        "outputId": "5d6d7522-6e8f-404c-d82a-88a83793cdc5",
        "colab": {
          "base_uri": "https://localhost:8080/",
          "height": 187
        }
      },
      "source": [
        "# Your code goes here\n",
        "from collections import Counter\n",
        "\n",
        "count = Counter()\n",
        "total_words = 0\n",
        "for sentence in sentences:\n",
        "  for word in sentence:\n",
        "    count[word] += 1\n",
        "    total_words += 1\n",
        "\n",
        "for word, num in count.most_common(10):\n",
        "  print(word + \"  :\" + str((num/float(total_words))*100) + \"%\")"
      ],
      "execution_count": 11,
      "outputs": [
        {
          "output_type": "stream",
          "text": [
            ".  :10.694267616869087%\n",
            "it  :3.856455336436107%\n",
            ",  :3.2466863539592064%\n",
            "i  :2.9408113348089997%\n",
            "do  :2.673765009799623%\n",
            "to  :2.5802591749298704%\n",
            "nt  :2.173878590333504%\n",
            "?  :2.1408609932749756%\n",
            "the  :2.1050699180635313%\n",
            "that  :2.086051782157819%\n"
          ],
          "name": "stdout"
        }
      ]
    },
    {
      "cell_type": "markdown",
      "metadata": {
        "id": "52qwmLwpsDDE",
        "colab_type": "text"
      },
      "source": [
        "### Part (c) -- 4 pts\n",
        "\n",
        "Complete the helper functions `convert_words_to_indices` and\n",
        "`generate_4grams`, so that the function `process_data` will take a \n",
        "list of sentences (i.e. list of list of words), and generate an \n",
        "$$N \\times 4$$ numpy matrix containing indices of 4 words that appear\n",
        "next to each other. You can use the constances `vocab`, `vocab_itos`,\n",
        "and `vocab_stoi` in your code."
      ]
    },
    {
      "cell_type": "code",
      "metadata": {
        "id": "EdnhwXzvsDDG",
        "colab_type": "code",
        "colab": {}
      },
      "source": [
        "# A list of all the words in the data set. We will assign a unique \n",
        "# identifier for each of these words.\n",
        "vocab = sorted(list(set([w for s in train for w in s])))\n",
        "# A mapping of index => word (string)\n",
        "vocab_itos = dict(enumerate(vocab))\n",
        "# A mapping of word => its index\n",
        "vocab_stoi = {word:index for index, word in vocab_itos.items()}\n",
        "\n",
        "def convert_words_to_indices(sents):\n",
        "    \"\"\"\n",
        "    This function takes a list of sentences (list of list of words)\n",
        "    and returns a new list with the same structure, but where each word\n",
        "    is replaced by its index in `vocab_stoi`.\n",
        "\n",
        "    Example:\n",
        "    >>> convert_words_to_indices([['one', 'in', 'five', 'are', 'over', 'here'], ['other', 'one', 'since', 'yesterday'], ['you']])\n",
        "    [[148, 98, 70, 23, 154, 89], [151, 148, 181, 246], [248]]\n",
        "    \"\"\"\n",
        "    \n",
        "    #convert a single sentence into a list of corresponding indices\n",
        "    def sentence_to_indices(sent):\n",
        "      a = []\n",
        "      for word in sent:\n",
        "        a.append(vocab_stoi[word])\n",
        "      return a\n",
        "\n",
        "    # Write your code here\n",
        "    return list(map(sentence_to_indices, sents))\n",
        "\n",
        "def generate_4grams(seqs):\n",
        "    \"\"\"\n",
        "    This function takes a list of sentences (list of lists) and returns\n",
        "    a new list containing the 4-grams (four consequentively occuring words)\n",
        "    that appear in the sentences. Note that a unique 4-gram can appear multiple\n",
        "    times, one per each time that the 4-gram appears in the data parameter `seqs`.\n",
        "\n",
        "    Example:\n",
        "\n",
        "    >>> generate_4grams([[148, 98, 70, 23, 154, 89], [151, 148, 181, 246], [248]])\n",
        "    [[148, 98, 70, 23], [98, 70, 23, 154], [70, 23, 154, 89], [151, 148, 181, 246]]\n",
        "    >>> generate_4grams([[1, 1, 1, 1, 1]])\n",
        "    [[1, 1, 1, 1], [1, 1, 1, 1]]\n",
        "    \"\"\"\n",
        "\n",
        "    # Write your code here\n",
        "    total = []\n",
        "    for sentence in seqs:\n",
        "      for i in range(0, len(sentence)-3):\n",
        "        total.append(sentence[i:i+4])\n",
        "    \n",
        "    return total\n",
        "def process_data(sents):\n",
        "    \"\"\"\n",
        "    This function takes a list of sentences (list of lists), and generates an\n",
        "    numpy matrix with shape [N, 4] containing indices of words in 4-grams.\n",
        "    \"\"\"\n",
        "    indices = convert_words_to_indices(sents)\n",
        "    fourgrams = generate_4grams(indices)\n",
        "    return np.array(fourgrams)\n",
        "\n",
        "train4grams = process_data(train)\n",
        "valid4grams = process_data(valid)\n",
        "test4grams = process_data(test)"
      ],
      "execution_count": 0,
      "outputs": []
    },
    {
      "cell_type": "markdown",
      "metadata": {
        "id": "65f2D2hBsDDW",
        "colab_type": "text"
      },
      "source": [
        "## Question 2. A Multi-Layer Perceptron\n",
        "\n",
        "In this section, we will build a two-layer multi-layer perceptron.\n",
        "We will first do this in numpy, and then once more in PyTorch.\n",
        "Our model will look like this:\n",
        "\n",
        "<img src=\"https://www.cs.toronto.edu/~lczhang/321/hw/p2_model1.png\" />\n",
        "\n",
        "Start by reviewing these helper functions, which are given to you:"
      ]
    },
    {
      "cell_type": "code",
      "metadata": {
        "id": "dQPmrXhLsDDZ",
        "colab_type": "code",
        "colab": {}
      },
      "source": [
        "def make_onehot(indicies, total=250):\n",
        "    \"\"\"\n",
        "    Convert indicies into one-hot vectors by\n",
        "        1. Creating an identity matrix of shape [total, total]\n",
        "        2. Indexing the appropriate columns of that identity matrix\n",
        "    \"\"\"\n",
        "    I = np.eye(total)\n",
        "    return I[indicies]\n",
        "\n",
        "def softmax(x):\n",
        "    \"\"\"\n",
        "    Compute the softmax of vector x, or row-wise for a matrix x.\n",
        "    We subtract x.max(axis=0) from each row for numerical stability.\n",
        "    \"\"\"\n",
        "    x = x.T\n",
        "    exps = np.exp(x - x.max(axis=0))\n",
        "    probs = exps / np.sum(exps, axis=0)\n",
        "    return probs.T\n",
        "\n",
        "def get_batch(data, range_min, range_max, onehot=True):\n",
        "    \"\"\"\n",
        "    Convert one batch of data in the form of 4-grams into input and output\n",
        "    data and return the training data (xs, ts) where:\n",
        "     - `xs` is an numpy array of one-hot vectors of shape [batch_size, 3, 250]\n",
        "     - `ts` is either\n",
        "            - a numpy array of shape [batch_size, 250] if onehot is True,\n",
        "            - a numpy array of shape [batch_size] containing indicies otherwise\n",
        "\n",
        "    Preconditions:\n",
        "     - `data` is a numpy array of shape [N, 4] produced by a call\n",
        "        to `process_data`\n",
        "     - range_max > range_min\n",
        "    \"\"\"\n",
        "    xs = data[range_min:range_max, :3]\n",
        "    xs = make_onehot(xs)\n",
        "    ts = data[range_min:range_max, 3]\n",
        "    if onehot:\n",
        "        ts = make_onehot(ts).reshape(-1, 250)\n",
        "    return xs, ts\n",
        "\n",
        "def estimate_accuracy(model, data, batch_size=5000, max_N=100000):\n",
        "    \"\"\"\n",
        "    Estimate the accuracy of the model on the data. To reduce\n",
        "    computation time, use at most `max_N` elements of `data` to\n",
        "    produce the estimate.\n",
        "    \"\"\"\n",
        "    correct = 0\n",
        "    N = 0\n",
        "    for i in range(0, data.shape[0], batch_size):\n",
        "        xs, ts = get_batch(data, i, i + batch_size, onehot=False)\n",
        "        y = model(xs)\n",
        "        pred = np.argmax(y, axis=1)\n",
        "        correct += np.sum(ts == pred)\n",
        "        N += ts.shape[0]\n",
        "\n",
        "        if N > max_N:\n",
        "            break\n",
        "    return correct / N"
      ],
      "execution_count": 0,
      "outputs": []
    },
    {
      "cell_type": "markdown",
      "metadata": {
        "id": "EquUpUkJsDDh",
        "colab_type": "text"
      },
      "source": [
        "### Part (a) -- 2 point\n",
        "\n",
        "Your first task is to implement MLP model in Numpy.\n",
        "This model is very similar to the one we built in Tutorial 5. However, we will\n",
        "write our code differently from Tutorial 5, so that the class methods and APIs\n",
        "are similar to that of PyTorch. This is to give you some intuition about what\n",
        "PyTorch is doing under the hood.\n",
        "\n",
        "We already wrote code for the backward pass for this model in Tutorial 5, so the\n",
        "code is given to you. To make sure you understand how the model works, \n",
        "**write the code to compute the forward pass**."
      ]
    },
    {
      "cell_type": "code",
      "metadata": {
        "id": "CvRKRTx0sDDj",
        "colab_type": "code",
        "colab": {}
      },
      "source": [
        "class NumpyMLPModel(object):\n",
        "    def __init__(self, num_features=250*3, num_hidden=400, num_classes=250):\n",
        "        \"\"\"\n",
        "        Initialize the weights and biases of this two-layer MLP.\n",
        "        \"\"\"\n",
        "        self.num_features = num_features\n",
        "        self.num_hidden = num_hidden\n",
        "        self.num_classes = num_classes\n",
        "        self.weights1 = np.zeros([num_hidden, num_features])\n",
        "        self.bias1 = np.zeros([num_hidden])\n",
        "        self.weights2 = np.zeros([num_classes, num_hidden])\n",
        "        self.bias2 = np.zeros([num_classes])\n",
        "        self.cleanup()\n",
        "\n",
        "    def initializeParams(self):\n",
        "        \"\"\"\n",
        "        Initialize the weights and biases of this two-layer MLP to be random.\n",
        "        This random initialization is necessary to break the symmetry in the\n",
        "        gradient descent update for our hidden weights and biases. If all our\n",
        "        weights were initialized to the same value, then their gradients will\n",
        "        all be the same!\n",
        "        \"\"\"\n",
        "        self.weights1 = np.random.normal(0, 2/self.num_features, self.weights1.shape)\n",
        "        self.bias1 = np.random.normal(0, 2/self.num_features, self.bias1.shape)\n",
        "        self.weights2 = np.random.normal(0, 2/self.num_hidden, self.weights2.shape)\n",
        "        self.bias2 = np.random.normal(0, 2/self.num_hidden, self.bias2.shape)\n",
        "\n",
        "    def forward(self, inputs):\n",
        "        \"\"\"\n",
        "        Compute the forward pass prediction for inputs.\n",
        "        Note that `inputs` will be a rank-3 numpy array with shape [N, 3, 250],\n",
        "        so we will need to flatten the tensor to [N, 750] first.\n",
        "\n",
        "        For the ReLU activation, you may find the function `np.maximum` helpful\n",
        "        \"\"\"\n",
        "        X = inputs.reshape([-1, 750])\n",
        "\n",
        "        # TODO:\n",
        "        \"\"\"\n",
        "        Weights1: num_hidden x num_features\n",
        "        X: num_inputs x num_features\n",
        "        z1: num_inputs x num_hidden\n",
        "        \n",
        "        weights2: num_classes x num_hidden\n",
        "        z2: num_inputs x num_classes\n",
        "        \"\"\"\n",
        "\n",
        "        self.N = X.shape[0]\n",
        "        self.X = X\n",
        "        big_bias1 = np.tile(self.bias1, (self.N, 1))\n",
        "        self.z1 = np.matmul(self.X, self.weights1.T)+big_bias1\n",
        "        test = np.zeros(self.z1.shape)\n",
        "        self.h = np.maximum(test, self.z1) #Applying relu\n",
        "        big_bias2 = np.tile(self.bias2, (self.N, 1))\n",
        "        self.z2 = np.matmul(self.h, self.weights2.T)+big_bias2\n",
        "        self.y = softmax(self.z2)\n",
        "        return self.y\n",
        "\n",
        "    def __call__(self, inputs):\n",
        "        \"\"\"\n",
        "        To be compatible with PyTorch API. With this code, the following two\n",
        "        calls are identical:\n",
        "\n",
        "        >>> m = TwoLayerMLP()\n",
        "        >>> m.forward(inputs)\n",
        "\n",
        "        and \n",
        "\n",
        "        >>> m = TwoLayerMLP()\n",
        "        >>> m(inputs)\n",
        "        \"\"\"\n",
        "        return self.forward(inputs)\n",
        "\n",
        "    def backward(self, ts):\n",
        "        \"\"\"\n",
        "        Compute the backward pass, given the ground-truth, one-hot targets.\n",
        "        Note that `ts` needs to be a rank 2 numpy array with shape [N, 250].\n",
        "        \"\"\"\n",
        "        self.z2_bar = (self.y - ts) / self.N\n",
        "        self.w2_bar = np.dot(self.z2_bar.T, self.h)\n",
        "        self.b2_bar = np.dot(self.z2_bar.T, np.ones(self.N))\n",
        "        self.h_bar = np.matmul(self.z2_bar, self.weights2)\n",
        "        self.z1_bar = self.h_bar * (self.z1 > 0)\n",
        "        self.w1_bar = np.dot(self.z1_bar.T, self.X)\n",
        "        self.b1_bar = np.dot(self.z1_bar.T, np.ones(self.N))\n",
        "\n",
        "    def update(self, alpha):\n",
        "        \"\"\"\n",
        "        Compute the gradient descent update for the parameters.\n",
        "        \"\"\"\n",
        "        self.weights1 = self.weights1 - alpha * self.w1_bar\n",
        "        self.bias1    = self.bias1    - alpha * self.b1_bar\n",
        "        self.weights2 = self.weights2 - alpha * self.w2_bar\n",
        "        self.bias2    = self.bias2    - alpha * self.b2_bar\n",
        "\n",
        "    def cleanup(self):\n",
        "        \"\"\"\n",
        "        Erase the values of the variables that we use in our computation.\n",
        "        \"\"\"\n",
        "        self.N = None\n",
        "        self.X = None\n",
        "        self.z1 = None\n",
        "        self.h = None\n",
        "        self.z2 = None\n",
        "        self.y = None\n",
        "        self.z2_bar = None\n",
        "        self.w2_bar = None\n",
        "        self.b2_bar = None\n",
        "        self.h_bar = None\n",
        "        self.z1_bar = None\n",
        "        self.w1_bar = None\n",
        "        self.b1_bar = None"
      ],
      "execution_count": 0,
      "outputs": []
    },
    {
      "cell_type": "markdown",
      "metadata": {
        "id": "CGkSo2o4sDDr",
        "colab_type": "text"
      },
      "source": [
        "### Part (b) -- 2 points\n",
        "\n",
        "Complete the `run_gradient_descent` function. Train your numpy MLP model \n",
        "to obtain a training accuracy of at least 25%. You do not need to train\n",
        "this model to convergence."
      ]
    },
    {
      "cell_type": "code",
      "metadata": {
        "id": "4oqbacIFsDDt",
        "colab_type": "code",
        "outputId": "e60db585-5874-4be9-f75c-c7d32e350775",
        "colab": {
          "base_uri": "https://localhost:8080/",
          "height": 357
        }
      },
      "source": [
        "def run_gradient_descent(model,\n",
        "                         train_data=train4grams,\n",
        "                         validation_data=valid4grams,\n",
        "                         batch_size=100,\n",
        "                         learning_rate=0.1,\n",
        "                         max_iters=5000):\n",
        "    \"\"\"\n",
        "    Use gradient descent to train the numpy model on the dataset train4grams.\n",
        "    \"\"\"\n",
        "    n = 0\n",
        "    while n < max_iters:\n",
        "        # shuffle the training data, and break early if we don't have\n",
        "        # enough data to remaining in the batch\n",
        "        np.random.shuffle(train_data)\n",
        "        for i in range(0, train_data.shape[0], batch_size):\n",
        "            if (i + batch_size) > train_data.shape[0]:\n",
        "                break\n",
        "\n",
        "            # get the input and targets of a minibatch\n",
        "            xs, ts = get_batch(train_data, i, i + batch_size, onehot=True)\n",
        "\n",
        "            # forward pass: compute prediction\n",
        "\n",
        "            # TODO: add your code here\n",
        "            y = model.forward(xs)\n",
        "\n",
        "            # backward pass: compute error \n",
        "            \n",
        "            # TODO: add your code here\n",
        "            model.backward(ts)\n",
        "            model.update(learning_rate)\n",
        "            model.cleanup()\n",
        "\n",
        "            # increment the iteration count\n",
        "            n += 1\n",
        "\n",
        "            # compute and plot the *validation* loss and accuracy\n",
        "            if (n % 100 == 0):\n",
        "                train_cost = -np.sum(ts * np.log(y)) / batch_size\n",
        "                #train_acc = estimate_accuracy(model, train_data)\n",
        "                #val_acc = estimate_accuracy(model, validation_data)\n",
        "                train_acc = estimate_accuracy(model, train_data, max_N=100)\n",
        "                val_acc = estimate_accuracy(model, validation_data, max_N=100)\n",
        "                model.cleanup()\n",
        "                print(\"Iter %d. [Val Acc %.0f%%] [Train Acc %.0f%%, Loss %f]\" % (\n",
        "                      n, val_acc * 100, train_acc * 100, train_cost))\n",
        "\n",
        "            if n >= max_iters:\n",
        "                return\n",
        "\n",
        "\n",
        "numpy_mlp = NumpyMLPModel()\n",
        "numpy_mlp.initializeParams()\n",
        "run_gradient_descent(numpy_mlp, batch_size=100, max_iters=2000, learning_rate=0.5)"
      ],
      "execution_count": 15,
      "outputs": [
        {
          "output_type": "stream",
          "text": [
            "Iter 100. [Val Acc 17%] [Train Acc 18%, Loss 4.582994]\n",
            "Iter 200. [Val Acc 17%] [Train Acc 18%, Loss 4.207329]\n",
            "Iter 300. [Val Acc 18%] [Train Acc 18%, Loss 4.303382]\n",
            "Iter 400. [Val Acc 19%] [Train Acc 20%, Loss 4.320854]\n",
            "Iter 500. [Val Acc 22%] [Train Acc 23%, Loss 4.187353]\n",
            "Iter 600. [Val Acc 23%] [Train Acc 24%, Loss 3.661605]\n",
            "Iter 700. [Val Acc 24%] [Train Acc 25%, Loss 4.117152]\n",
            "Iter 800. [Val Acc 25%] [Train Acc 25%, Loss 3.995095]\n",
            "Iter 900. [Val Acc 25%] [Train Acc 25%, Loss 3.923707]\n",
            "Iter 1000. [Val Acc 26%] [Train Acc 26%, Loss 3.708732]\n",
            "Iter 1100. [Val Acc 26%] [Train Acc 26%, Loss 3.442989]\n",
            "Iter 1200. [Val Acc 27%] [Train Acc 27%, Loss 3.679370]\n",
            "Iter 1300. [Val Acc 27%] [Train Acc 27%, Loss 3.557889]\n",
            "Iter 1400. [Val Acc 28%] [Train Acc 27%, Loss 3.621917]\n",
            "Iter 1500. [Val Acc 28%] [Train Acc 27%, Loss 3.524761]\n",
            "Iter 1600. [Val Acc 28%] [Train Acc 27%, Loss 3.405140]\n",
            "Iter 1700. [Val Acc 28%] [Train Acc 27%, Loss 2.927041]\n",
            "Iter 1800. [Val Acc 28%] [Train Acc 27%, Loss 3.559019]\n",
            "Iter 1900. [Val Acc 28%] [Train Acc 28%, Loss 3.447636]\n",
            "Iter 2000. [Val Acc 28%] [Train Acc 28%, Loss 3.223664]\n"
          ],
          "name": "stdout"
        }
      ]
    },
    {
      "cell_type": "markdown",
      "metadata": {
        "id": "Gr7rGeojsDDz",
        "colab_type": "text"
      },
      "source": [
        "### Part (c) -- 2 pts\n",
        "\n",
        "We will do build the same model in PyTorch. Since PyTorch uses automatic\n",
        "differentiation, we only need to write the *forward pass* of our\n",
        "model. Complete the `forward` function below:"
      ]
    },
    {
      "cell_type": "code",
      "metadata": {
        "id": "LJCT1cdhsDD1",
        "colab_type": "code",
        "colab": {}
      },
      "source": [
        "class PyTorchMLP(nn.Module):\n",
        "    def __init__(self, num_hidden=400):\n",
        "        super(PyTorchMLP, self).__init__()\n",
        "        self.layer1 = nn.Linear(750, num_hidden)\n",
        "        self.layer2 = nn.Linear(num_hidden, 250)\n",
        "        self.num_hidden = num_hidden\n",
        "    def forward(self, inp):\n",
        "        inp = inp.reshape([-1, 750])\n",
        "        # TODO: complete this function\n",
        "\n",
        "        #Forward pass into first layer\n",
        "        z1 = torch.relu(self.layer1(inp))\n",
        "        #Pass into second layer\n",
        "        return torch.softmax(self.layer2(z1), dim=1)\n"
      ],
      "execution_count": 0,
      "outputs": []
    },
    {
      "cell_type": "markdown",
      "metadata": {
        "id": "_hnEWbfSsDD8",
        "colab_type": "text"
      },
      "source": [
        "### Part (d) -- 4 pts\n",
        "\n",
        "We'll write similar code to train the PyTorch model. With a few differences:\n",
        "\n",
        "1. We will use a slightly fancier optimizer called **Adam**. For this optimizer,\n",
        "   a smaller learning rate usually works better, so the default learning\n",
        "   rate is set to 0.001.\n",
        "2. Since we get weight decay for free, you are welcome to use weight decay.\n",
        "\n",
        "Complete the function `run_pytorch_gradient_descent`, and use it to train\n",
        "your PyTorch MLP model to obtain a training accuracy of at least 38%.\n",
        "Plot the learning curve using the `plot_learning_curve` function provided\n",
        "to you, and include your plot in your PDF submission."
      ]
    },
    {
      "cell_type": "code",
      "metadata": {
        "id": "hRZG3o5FsDEA",
        "colab_type": "code",
        "colab": {}
      },
      "source": [
        "def estimate_accuracy_torch(model, data, batch_size=5000, max_N=100000):\n",
        "    \"\"\"\n",
        "    Estimate the accuracy of the model on the data. To reduce\n",
        "    computation time, use at most `max_N` elements of `data` to\n",
        "    produce the estimate.\n",
        "    \"\"\"\n",
        "    correct = 0\n",
        "    N = 0\n",
        "    for i in range(0, data.shape[0], batch_size):\n",
        "        # get a batch of data\n",
        "        xs, ts = get_batch(data, i, i + batch_size, onehot=False)\n",
        "        \n",
        "        # forward pass prediction\n",
        "        y = model(torch.Tensor(xs))\n",
        "        y = y.detach().numpy() # convert the PyTorch tensor => numpy array\n",
        "        pred = np.argmax(y, axis=1)\n",
        "        correct += np.sum(pred == ts)\n",
        "        N += ts.shape[0]\n",
        "\n",
        "        if N > max_N:\n",
        "            break\n",
        "    return correct / N\n",
        "\n",
        "def run_pytorch_gradient_descent(model,\n",
        "                                 train_data=train4grams,\n",
        "                                 validation_data=valid4grams,\n",
        "                                 batch_size=100,\n",
        "                                 learning_rate=0.001,\n",
        "                                 weight_decay=0,\n",
        "                                 max_iters=1000,\n",
        "                                 checkpoint_path=None):\n",
        "    \"\"\"\n",
        "    Train the PyTorch model on the dataset `train_data`, reporting\n",
        "    the validation accuracy on `validation_data`, for `max_iters`\n",
        "    iteration.\n",
        "\n",
        "    If you want to **checkpoint** your model weights (i.e. save the\n",
        "    model weights to Google Drive), then the parameter\n",
        "    `checkpoint_path` should be a string path with `{}` to be replaced\n",
        "    by the iteration count:\n",
        "\n",
        "    For example, calling \n",
        "\n",
        "    >>> run_pytorch_gradient_descent(model, ...,\n",
        "            checkpoint_path = '/content/gdrive/My Drive/CSC321/mlp/ckpt-{}.pk')\n",
        "\n",
        "    will save the model parameters in Google Drive every 500 iterations.\n",
        "    You will have to make sure that the path exists (i.e. you'll need to create\n",
        "    the folder CSC321, mlp, etc...). Your Google Drive will be populated with files:\n",
        "\n",
        "    - /content/gdrive/My Drive/CSC321/mlp/ckpt-500.pk\n",
        "    - /content/gdrive/My Drive/CSC321/mlp/ckpt-1000.pk\n",
        "    - ...\n",
        "\n",
        "    To load the weights at a later time, you can run:\n",
        "\n",
        "    >>> model.load_state_dict(torch.load('/content/gdrive/My Drive/CSC321/mlp/ckpt-500.pk'))\n",
        "\n",
        "    This function returns the training loss, and the training/validation accuracy,\n",
        "    which we can use to plot the learning curve.\n",
        "    \"\"\"\n",
        "    criterion = nn.CrossEntropyLoss()\n",
        "    optimizer = optim.Adam(model.parameters(),\n",
        "                           lr=learning_rate,\n",
        "                           weight_decay=weight_decay)\n",
        "\n",
        "    iters, losses = [], []\n",
        "    iters_sub, train_accs, val_accs  = [], [] ,[]\n",
        "\n",
        "    n = 0 # the number of iterations\n",
        "    while True:\n",
        "        for i in range(0, train_data.shape[0], batch_size):\n",
        "            if (i + batch_size) > train_data.shape[0]:\n",
        "                break\n",
        "\n",
        "            # get the input and targets of a minibatch\n",
        "            xs, ts = get_batch(train_data, i, i + batch_size, onehot=False)\n",
        "\n",
        "            # convert from numpy arrays to PyTorch tensors\n",
        "            xs = torch.Tensor(xs)\n",
        "            ts = torch.Tensor(ts).long()\n",
        "\n",
        "            zs = model(xs)                 # compute prediction logit\n",
        "            loss = criterion(zs, ts)                  # compute the total loss\n",
        "            loss.backward()                      # compute updates for each parameter\n",
        "            optimizer.step()                      # make the updates for each parameter\n",
        "            optimizer.zero_grad()                      # a clean up step for PyTorch\n",
        "\n",
        "            # save the current training information\n",
        "            iters.append(n)\n",
        "            losses.append(float(loss)/batch_size)  # compute *average* loss\n",
        "\n",
        "            if n % 500 == 0:\n",
        "                iters_sub.append(n)\n",
        "                train_cost = float(loss.detach().numpy())\n",
        "                train_acc = estimate_accuracy_torch(model, train_data, batch_size=10, max_N=100)\n",
        "                train_accs.append(train_acc)\n",
        "                val_acc = estimate_accuracy_torch(model, validation_data, batch_size=10, max_N=100)\n",
        "                val_accs.append(val_acc)\n",
        "                print(\"Iter %d. [Val Acc %.0f%%] [Train Acc %.0f%%, Loss %f]\" % (\n",
        "                      n, val_acc * 100, train_acc * 100, train_cost))\n",
        "\n",
        "                if (checkpoint_path is not None) and n > 0:\n",
        "                    torch.save(model.state_dict(), checkpoint_path.format(n))\n",
        "\n",
        "            # increment the iteration number\n",
        "            n += 1\n",
        "\n",
        "            if n > max_iters:\n",
        "                return iters, losses, iters_sub, train_accs, val_accs\n",
        "\n",
        "\n",
        "def plot_learning_curve(iters, losses, iters_sub, train_accs, val_accs):\n",
        "    \"\"\"\n",
        "    Plot the learning curve.\n",
        "    \"\"\"\n",
        "    plt.title(\"Learning Curve: Loss per Iteration\")\n",
        "    plt.plot(iters, losses, label=\"Train\")\n",
        "    plt.xlabel(\"Iterations\")\n",
        "    plt.ylabel(\"Loss\")\n",
        "    plt.show()\n",
        "\n",
        "    plt.title(\"Learning Curve: Accuracy per Iteration\")\n",
        "    plt.plot(iters_sub, train_accs, label=\"Train\")\n",
        "    plt.plot(iters_sub, val_accs, label=\"Validation\")\n",
        "    plt.xlabel(\"Iterations\")\n",
        "    plt.ylabel(\"Accuracy\")\n",
        "    plt.legend(loc='best')\n",
        "    plt.show()"
      ],
      "execution_count": 0,
      "outputs": []
    },
    {
      "cell_type": "code",
      "metadata": {
        "id": "zDAY3u2SsDEG",
        "colab_type": "code",
        "outputId": "dd474a24-46af-4775-9f6e-0e34858eef1c",
        "colab": {
          "base_uri": "https://localhost:8080/",
          "height": 429
        }
      },
      "source": [
        "pytorch_mlp = PyTorchMLP()\n",
        "learning_curve_info = run_pytorch_gradient_descent(pytorch_mlp, batch_size=200, weight_decay=0, max_iters=5000, learning_rate=0.001, checkpoint_path='/content/gdrive/My Drive/CSC321/mlp/ckpt-{}.pk')\n",
        "\n",
        "# you might want to save the `learning_curve_info` somewhere, so that you can plot\n",
        "# the learning curve prior to exporting your PDF file\n",
        "\n",
        "plot_learning_curve(*learning_curve_info)"
      ],
      "execution_count": 18,
      "outputs": [
        {
          "output_type": "stream",
          "text": [
            "Iter 0. [Val Acc 5%] [Train Acc 4%, Loss 5.521451]\n",
            "Iter 500. [Val Acc 25%] [Train Acc 20%, Loss 5.277036]\n"
          ],
          "name": "stdout"
        },
        {
          "output_type": "error",
          "ename": "FileNotFoundError",
          "evalue": "ignored",
          "traceback": [
            "\u001b[0;31m---------------------------------------------------------------------------\u001b[0m",
            "\u001b[0;31mFileNotFoundError\u001b[0m                         Traceback (most recent call last)",
            "\u001b[0;32m<ipython-input-18-5307674cdc48>\u001b[0m in \u001b[0;36m<module>\u001b[0;34m()\u001b[0m\n\u001b[1;32m      1\u001b[0m \u001b[0mpytorch_mlp\u001b[0m \u001b[0;34m=\u001b[0m \u001b[0mPyTorchMLP\u001b[0m\u001b[0;34m(\u001b[0m\u001b[0;34m)\u001b[0m\u001b[0;34m\u001b[0m\u001b[0;34m\u001b[0m\u001b[0m\n\u001b[0;32m----> 2\u001b[0;31m \u001b[0mlearning_curve_info\u001b[0m \u001b[0;34m=\u001b[0m \u001b[0mrun_pytorch_gradient_descent\u001b[0m\u001b[0;34m(\u001b[0m\u001b[0mpytorch_mlp\u001b[0m\u001b[0;34m,\u001b[0m \u001b[0mbatch_size\u001b[0m\u001b[0;34m=\u001b[0m\u001b[0;36m200\u001b[0m\u001b[0;34m,\u001b[0m \u001b[0mweight_decay\u001b[0m\u001b[0;34m=\u001b[0m\u001b[0;36m0\u001b[0m\u001b[0;34m,\u001b[0m \u001b[0mmax_iters\u001b[0m\u001b[0;34m=\u001b[0m\u001b[0;36m5000\u001b[0m\u001b[0;34m,\u001b[0m \u001b[0mlearning_rate\u001b[0m\u001b[0;34m=\u001b[0m\u001b[0;36m0.001\u001b[0m\u001b[0;34m,\u001b[0m \u001b[0mcheckpoint_path\u001b[0m\u001b[0;34m=\u001b[0m\u001b[0;34m'/content/gdrive/My Drive/CSC321/mlp/ckpt-{}.pk'\u001b[0m\u001b[0;34m)\u001b[0m\u001b[0;34m\u001b[0m\u001b[0;34m\u001b[0m\u001b[0m\n\u001b[0m\u001b[1;32m      3\u001b[0m \u001b[0;34m\u001b[0m\u001b[0m\n\u001b[1;32m      4\u001b[0m \u001b[0;31m# you might want to save the `learning_curve_info` somewhere, so that you can plot\u001b[0m\u001b[0;34m\u001b[0m\u001b[0;34m\u001b[0m\u001b[0;34m\u001b[0m\u001b[0m\n\u001b[1;32m      5\u001b[0m \u001b[0;31m# the learning curve prior to exporting your PDF file\u001b[0m\u001b[0;34m\u001b[0m\u001b[0;34m\u001b[0m\u001b[0;34m\u001b[0m\u001b[0m\n",
            "\u001b[0;32m<ipython-input-17-b55dbad9a0cb>\u001b[0m in \u001b[0;36mrun_pytorch_gradient_descent\u001b[0;34m(model, train_data, validation_data, batch_size, learning_rate, weight_decay, max_iters, checkpoint_path)\u001b[0m\n\u001b[1;32m    102\u001b[0m \u001b[0;34m\u001b[0m\u001b[0m\n\u001b[1;32m    103\u001b[0m                 \u001b[0;32mif\u001b[0m \u001b[0;34m(\u001b[0m\u001b[0mcheckpoint_path\u001b[0m \u001b[0;32mis\u001b[0m \u001b[0;32mnot\u001b[0m \u001b[0;32mNone\u001b[0m\u001b[0;34m)\u001b[0m \u001b[0;32mand\u001b[0m \u001b[0mn\u001b[0m \u001b[0;34m>\u001b[0m \u001b[0;36m0\u001b[0m\u001b[0;34m:\u001b[0m\u001b[0;34m\u001b[0m\u001b[0;34m\u001b[0m\u001b[0m\n\u001b[0;32m--> 104\u001b[0;31m                     \u001b[0mtorch\u001b[0m\u001b[0;34m.\u001b[0m\u001b[0msave\u001b[0m\u001b[0;34m(\u001b[0m\u001b[0mmodel\u001b[0m\u001b[0;34m.\u001b[0m\u001b[0mstate_dict\u001b[0m\u001b[0;34m(\u001b[0m\u001b[0;34m)\u001b[0m\u001b[0;34m,\u001b[0m \u001b[0mcheckpoint_path\u001b[0m\u001b[0;34m.\u001b[0m\u001b[0mformat\u001b[0m\u001b[0;34m(\u001b[0m\u001b[0mn\u001b[0m\u001b[0;34m)\u001b[0m\u001b[0;34m)\u001b[0m\u001b[0;34m\u001b[0m\u001b[0;34m\u001b[0m\u001b[0m\n\u001b[0m\u001b[1;32m    105\u001b[0m \u001b[0;34m\u001b[0m\u001b[0m\n\u001b[1;32m    106\u001b[0m             \u001b[0;31m# increment the iteration number\u001b[0m\u001b[0;34m\u001b[0m\u001b[0;34m\u001b[0m\u001b[0;34m\u001b[0m\u001b[0m\n",
            "\u001b[0;32m/usr/local/lib/python3.6/dist-packages/torch/serialization.py\u001b[0m in \u001b[0;36msave\u001b[0;34m(obj, f, pickle_module, pickle_protocol, _use_new_zipfile_serialization)\u001b[0m\n\u001b[1;32m    325\u001b[0m             \u001b[0;32mreturn\u001b[0m\u001b[0;34m\u001b[0m\u001b[0;34m\u001b[0m\u001b[0m\n\u001b[1;32m    326\u001b[0m \u001b[0;34m\u001b[0m\u001b[0m\n\u001b[0;32m--> 327\u001b[0;31m     \u001b[0;32mwith\u001b[0m \u001b[0m_open_file_like\u001b[0m\u001b[0;34m(\u001b[0m\u001b[0mf\u001b[0m\u001b[0;34m,\u001b[0m \u001b[0;34m'wb'\u001b[0m\u001b[0;34m)\u001b[0m \u001b[0;32mas\u001b[0m \u001b[0mopened_file\u001b[0m\u001b[0;34m:\u001b[0m\u001b[0;34m\u001b[0m\u001b[0;34m\u001b[0m\u001b[0m\n\u001b[0m\u001b[1;32m    328\u001b[0m         \u001b[0m_legacy_save\u001b[0m\u001b[0;34m(\u001b[0m\u001b[0mobj\u001b[0m\u001b[0;34m,\u001b[0m \u001b[0mopened_file\u001b[0m\u001b[0;34m,\u001b[0m \u001b[0mpickle_module\u001b[0m\u001b[0;34m,\u001b[0m \u001b[0mpickle_protocol\u001b[0m\u001b[0;34m)\u001b[0m\u001b[0;34m\u001b[0m\u001b[0;34m\u001b[0m\u001b[0m\n\u001b[1;32m    329\u001b[0m \u001b[0;34m\u001b[0m\u001b[0m\n",
            "\u001b[0;32m/usr/local/lib/python3.6/dist-packages/torch/serialization.py\u001b[0m in \u001b[0;36m_open_file_like\u001b[0;34m(name_or_buffer, mode)\u001b[0m\n\u001b[1;32m    210\u001b[0m \u001b[0;32mdef\u001b[0m \u001b[0m_open_file_like\u001b[0m\u001b[0;34m(\u001b[0m\u001b[0mname_or_buffer\u001b[0m\u001b[0;34m,\u001b[0m \u001b[0mmode\u001b[0m\u001b[0;34m)\u001b[0m\u001b[0;34m:\u001b[0m\u001b[0;34m\u001b[0m\u001b[0;34m\u001b[0m\u001b[0m\n\u001b[1;32m    211\u001b[0m     \u001b[0;32mif\u001b[0m \u001b[0m_is_path\u001b[0m\u001b[0;34m(\u001b[0m\u001b[0mname_or_buffer\u001b[0m\u001b[0;34m)\u001b[0m\u001b[0;34m:\u001b[0m\u001b[0;34m\u001b[0m\u001b[0;34m\u001b[0m\u001b[0m\n\u001b[0;32m--> 212\u001b[0;31m         \u001b[0;32mreturn\u001b[0m \u001b[0m_open_file\u001b[0m\u001b[0;34m(\u001b[0m\u001b[0mname_or_buffer\u001b[0m\u001b[0;34m,\u001b[0m \u001b[0mmode\u001b[0m\u001b[0;34m)\u001b[0m\u001b[0;34m\u001b[0m\u001b[0;34m\u001b[0m\u001b[0m\n\u001b[0m\u001b[1;32m    213\u001b[0m     \u001b[0;32melse\u001b[0m\u001b[0;34m:\u001b[0m\u001b[0;34m\u001b[0m\u001b[0;34m\u001b[0m\u001b[0m\n\u001b[1;32m    214\u001b[0m         \u001b[0;32mif\u001b[0m \u001b[0;34m'w'\u001b[0m \u001b[0;32min\u001b[0m \u001b[0mmode\u001b[0m\u001b[0;34m:\u001b[0m\u001b[0;34m\u001b[0m\u001b[0;34m\u001b[0m\u001b[0m\n",
            "\u001b[0;32m/usr/local/lib/python3.6/dist-packages/torch/serialization.py\u001b[0m in \u001b[0;36m__init__\u001b[0;34m(self, name, mode)\u001b[0m\n\u001b[1;32m    191\u001b[0m \u001b[0;32mclass\u001b[0m \u001b[0m_open_file\u001b[0m\u001b[0;34m(\u001b[0m\u001b[0m_opener\u001b[0m\u001b[0;34m)\u001b[0m\u001b[0;34m:\u001b[0m\u001b[0;34m\u001b[0m\u001b[0;34m\u001b[0m\u001b[0m\n\u001b[1;32m    192\u001b[0m     \u001b[0;32mdef\u001b[0m \u001b[0m__init__\u001b[0m\u001b[0;34m(\u001b[0m\u001b[0mself\u001b[0m\u001b[0;34m,\u001b[0m \u001b[0mname\u001b[0m\u001b[0;34m,\u001b[0m \u001b[0mmode\u001b[0m\u001b[0;34m)\u001b[0m\u001b[0;34m:\u001b[0m\u001b[0;34m\u001b[0m\u001b[0;34m\u001b[0m\u001b[0m\n\u001b[0;32m--> 193\u001b[0;31m         \u001b[0msuper\u001b[0m\u001b[0;34m(\u001b[0m\u001b[0m_open_file\u001b[0m\u001b[0;34m,\u001b[0m \u001b[0mself\u001b[0m\u001b[0;34m)\u001b[0m\u001b[0;34m.\u001b[0m\u001b[0m__init__\u001b[0m\u001b[0;34m(\u001b[0m\u001b[0mopen\u001b[0m\u001b[0;34m(\u001b[0m\u001b[0mname\u001b[0m\u001b[0;34m,\u001b[0m \u001b[0mmode\u001b[0m\u001b[0;34m)\u001b[0m\u001b[0;34m)\u001b[0m\u001b[0;34m\u001b[0m\u001b[0;34m\u001b[0m\u001b[0m\n\u001b[0m\u001b[1;32m    194\u001b[0m \u001b[0;34m\u001b[0m\u001b[0m\n\u001b[1;32m    195\u001b[0m     \u001b[0;32mdef\u001b[0m \u001b[0m__exit__\u001b[0m\u001b[0;34m(\u001b[0m\u001b[0mself\u001b[0m\u001b[0;34m,\u001b[0m \u001b[0;34m*\u001b[0m\u001b[0margs\u001b[0m\u001b[0;34m)\u001b[0m\u001b[0;34m:\u001b[0m\u001b[0;34m\u001b[0m\u001b[0;34m\u001b[0m\u001b[0m\n",
            "\u001b[0;31mFileNotFoundError\u001b[0m: [Errno 2] No such file or directory: '/content/gdrive/My Drive/CSC321/mlp/ckpt-500.pk'"
          ]
        }
      ]
    },
    {
      "cell_type": "markdown",
      "metadata": {
        "id": "jt2IdsLUsDEL",
        "colab_type": "text"
      },
      "source": [
        "### Part (e) -- 3 points\n",
        "\n",
        "Write a function `make_prediction` that takes as parameters\n",
        "a PyTorchMLP model and sentence (a list of words), and produces\n",
        "a prediction for the next word in the sentence.\n",
        "\n",
        "Start by thinking about what you need to do, step by step, taking\n",
        "care of the difference between a numpy array and a PyTorch Tensor."
      ]
    },
    {
      "cell_type": "code",
      "metadata": {
        "id": "UZSnG4DcsDEP",
        "colab_type": "code",
        "colab": {}
      },
      "source": [
        "def make_prediction_torch(model, sentence):\n",
        "    \"\"\"\n",
        "    Use the model to make a prediction for the next word in the\n",
        "    sentence using the last 3 words (sentence[:-3]). You may assume\n",
        "    that len(sentence) >= 3 and that `model` is an instance of\n",
        "    PYTorchMLP.\n",
        "\n",
        "    This function should return the next word, represented as a string.\n",
        "\n",
        "    Example call:\n",
        "    >>> make_prediction_torch(pytorch_mlp, ['you', 'are', 'a'])\n",
        "    \"\"\"\n",
        "    global vocab_stoi, vocab_itos\n",
        "\n",
        "    #  Write your code here\n",
        "    indices = []\n",
        "    indices.append(vocab_stoi[sentence[-3]])\n",
        "    indices.append(vocab_stoi[sentence[-2]])\n",
        "    indices.append(vocab_stoi[sentence[-1]])\n",
        "    data = torch.tensor(make_onehot(indices).reshape([1, -1, 250])).float()\n",
        "    out = model(data).data.numpy()\n",
        "    word = np.argmax(out)\n",
        "    return vocab_itos[word]"
      ],
      "execution_count": 0,
      "outputs": []
    },
    {
      "cell_type": "markdown",
      "metadata": {
        "id": "3PK_zPbTsDEV",
        "colab_type": "text"
      },
      "source": [
        "### Part (f) -- 4 points\n",
        "\n",
        "Use your code to predict what the next word should be in each\n",
        "of the following sentences:\n",
        "\n",
        "- \"You are a\"\n",
        "- \"few companies show\"\n",
        "- \"There are no\"\n",
        "- \"yesterday i was\"\n",
        "- \"the game had\"\n",
        "- \"yesterday the federal\"\n",
        "\n",
        "Do your predictions make sense? (If all of your predictions are the same,\n",
        "train your model for more iterations, or change the hyperparameters in your\n",
        "model. You may need to do this even if your training accuracy is >=38%)\n",
        "\n",
        "One concern you might have is that our model may be \"memorizing\" information\n",
        "from the training set.  Check if each of 3-grams (the 3 words appearing next\n",
        "to each other) appear in the training set. If so, what word occurs immediately\n",
        "following those three words?"
      ]
    },
    {
      "cell_type": "code",
      "metadata": {
        "id": "r9whrKKYsDEX",
        "colab_type": "code",
        "colab": {}
      },
      "source": [
        "# Write your code and answers here\n",
        "print(make_prediction_torch(pytorch_mlp, ['you','are','a']))\n",
        "print(make_prediction_torch(pytorch_mlp, ['few','companies','show']))\n",
        "print(make_prediction_torch(pytorch_mlp, ['there','are','no']))\n",
        "print(make_prediction_torch(pytorch_mlp, ['yesterday','i','was']))\n",
        "print(make_prediction_torch(pytorch_mlp, ['the','game','had']))\n",
        "print(make_prediction_torch(pytorch_mlp, ['yesterday','the','federal']))"
      ],
      "execution_count": 0,
      "outputs": []
    },
    {
      "cell_type": "markdown",
      "metadata": {
        "id": "t1ttJ0xNsDEd",
        "colab_type": "text"
      },
      "source": [
        "### Part (g) -- 1 points\n",
        "\n",
        "Report the test accuracy of your model"
      ]
    },
    {
      "cell_type": "code",
      "metadata": {
        "id": "95juKs_NsDEf",
        "colab_type": "code",
        "colab": {}
      },
      "source": [
        "# Write your code here\n",
        "test_acc = estimate_accuracy_torch(pytorch_mlp, test4grams)\n",
        "print(\"Test accuracy = \"+str(test_acc))\n"
      ],
      "execution_count": 0,
      "outputs": []
    },
    {
      "cell_type": "markdown",
      "metadata": {
        "id": "J3tbCLmPsDEl",
        "colab_type": "text"
      },
      "source": [
        "## Question 3. Learning Word Embeddings\n",
        "\n",
        "In this section, we will build a slightly different model with a different\n",
        "architecture. In particular, we will first compute a lower-dimensional\n",
        "*representation* of the three words, before using a multi-layer perceptron.\n",
        "\n",
        "Our model will look like this:\n",
        "\n",
        "<img src=\"https://www.cs.toronto.edu/~lczhang/321/hw/p2_model2.png\" />\n",
        "\n",
        "This model has 3 layers instead of 2, but the first layer of the network\n",
        "is **not** fully-connected. Instead, we compute the representations of each\n",
        "of the three words **separately**. In addition, the first layer of the network\n",
        "will not use any biases. The reason for this will be clear in question 4.\n"
      ]
    },
    {
      "cell_type": "markdown",
      "metadata": {
        "id": "x_6jL5a__esa",
        "colab_type": "text"
      },
      "source": [
        "### Part (a) - 10 pts\n",
        "\n",
        "Complete the methods in `NumpyWordEmbModel`."
      ]
    },
    {
      "cell_type": "code",
      "metadata": {
        "id": "AeFZI6xQsDEm",
        "colab_type": "code",
        "colab": {}
      },
      "source": [
        "class NumpyWordEmbModel(object):\n",
        "    def __init__(self, vocab_size=250, emb_size=100, num_hidden=100):\n",
        "        self.vocab_size = vocab_size\n",
        "        self.emb_size = emb_size\n",
        "        self.num_hidden = num_hidden\n",
        "        self.num_features = 3*emb_size\n",
        "        self.emb_weights = np.zeros([emb_size, vocab_size]) # no biases in this layer\n",
        "        self.weights1 = np.zeros([num_hidden, emb_size * 3])\n",
        "        self.bias1 = np.zeros([num_hidden])\n",
        "        self.weights2 = np.zeros([vocab_size, num_hidden])\n",
        "        self.bias2 = np.zeros([vocab_size])\n",
        "        self.initializeParams()\n",
        "        self.cleanup()\n",
        "\n",
        "        \n",
        "\n",
        "    def initializeParams(self):\n",
        "        \"\"\"\n",
        "        Randomly initialize the weights and biases of this two-layer MLP.\n",
        "        The randomization is necessary so that each weight is updated to\n",
        "        a different value.\n",
        "        \"\"\"\n",
        "        self.emb_weights = np.random.normal(0, 2/self.num_hidden, self.emb_weights.shape)\n",
        "        self.weights1 = np.random.normal(0, 2/self.num_features, self.weights1.shape)\n",
        "        self.bias1 = np.random.normal(0, 2/self.num_features, self.bias1.shape)\n",
        "        self.weights2 = np.random.normal(0, 2/self.num_hidden, self.weights2.shape)\n",
        "        self.bias2 = np.random.normal(0, 2/self.num_hidden, self.bias2.shape)\n",
        "\n",
        "    def forward(self, inputs):\n",
        "        \"\"\"\n",
        "        Compute the forward pass prediction for inputs.\n",
        "        Note that `inputs` will be a rank-3 numpy array with shape [N, 3, 250].\n",
        "\n",
        "        For numerical stability reasons, we **do not** apply the softmax\n",
        "        activation in the forward function. The loss function assumes that \n",
        "        we return the logits from this function.\n",
        "        \"\"\"\n",
        "\n",
        "        #Get activation values for the first hidden layer\n",
        "        #Get activation values for the output layer\n",
        "        #250 is the number of words\n",
        "\n",
        "\n",
        "        self.N = inputs.shape[0]\n",
        "        \n",
        "        asd = inputs[:,0,:]\n",
        "\n",
        "        self.x1 = inputs[:,0,:]\n",
        "        self.x2 = inputs[:,0,:]\n",
        "        self.x3 = inputs[:,0,:]\n",
        "\n",
        "        self.t1 = np.matmul(inputs[:,0,:], self.emb_weights.T)\n",
        "        self.t2 = np.matmul(inputs[:,1,:], self.emb_weights.T)\n",
        "        self.t3 = np.matmul(inputs[:,2,:], self.emb_weights.T)\n",
        "        shape = self.t1.shape\n",
        "        t = np.zeros((shape[0], shape[1]*3))\n",
        "        t[:,0:shape[1]] = self.t1\n",
        "        t[:,shape[1]:shape[1]*2] = self.t2\n",
        "        t[:,shape[1]*2:shape[1]*3] = self.t3\n",
        "        \n",
        "        self.X = t\n",
        "        temp = np.matmul(t, self.weights1.T)\n",
        "        big_bias1 = np.tile(self.bias1, (temp.shape[0], 1))\n",
        "        self.z1 = temp + big_bias1\n",
        "        test = np.zeros(self.z1.shape)\n",
        "        self.h = np.maximum(test,self.z1)\n",
        "        big_bias2 = np.tile(self.bias2, (self.N, 1))\n",
        "        self.z2 = np.matmul(self.h, self.weights2.T) + big_bias2\n",
        "        test = np.zeros(self.z1.shape)\n",
        "        self.h2 = np.maximum(test,self.z1)\n",
        "        self.y = softmax(self.z2)\n",
        "\n",
        "        return self.y\n",
        "\n",
        "    def __call__(self, inputs):\n",
        "        return self.forward(inputs)\n",
        "\n",
        "    def backward(self, ts):\n",
        "        \"\"\"\n",
        "        Compute the backward pass, given the ground-truth, one-hot targets.\n",
        "        Note that `ts` needs to be a rank 2 numpy array with shape [N, 250].\n",
        "\n",
        "        Remember the multivariate chain rule: if a weight affects the loss\n",
        "        through different paths, then the error signal from all the paths\n",
        "        must be added together.\n",
        "        \"\"\"\n",
        "        self.z2_bar = (self.y - ts) / self.N\n",
        "        self.w2_bar = np.dot(self.z2_bar.T, self.h)\n",
        "        self.b2_bar = np.dot(self.z2_bar.T, np.ones(self.N))\n",
        "        self.h_bar = np.matmul(self.z2_bar, self.weights2)\n",
        "        self.z1_bar = self.h_bar * (self.z1 > 0)\n",
        "        self.w1_bar = np.dot(self.z1_bar.T, self.X)\n",
        "        self.b1_bar = np.dot(self.z1_bar.T, np.ones(self.N))\n",
        "        self.emb_bar1 = np.dot(self.z1_bar.T, self.x1)\n",
        "        self.emb_bar2 = np.dot(self.z1_bar.T, self.x2)\n",
        "        self.emb_bar3 = np.dot(self.z1_bar.T, self.x3)\n",
        "        \n",
        "\n",
        "    def update(self, alpha):\n",
        "        \"\"\"\n",
        "        Compute the gradient descent update for the parameters.\n",
        "        \"\"\"\n",
        "        self.weights1 = self.weights1 - alpha * self.w1_bar\n",
        "        self.bias1    = self.bias1    - alpha * self.b1_bar\n",
        "        self.weights2 = self.weights2 - alpha * self.w2_bar\n",
        "        self.bias2    = self.bias2    - alpha * self.b2_bar\n",
        "        self.emb_weights    = self.emb_weights    - alpha * (self.emb_bar1 + self.emb_bar2 + self.emb_bar3)\n",
        "\n",
        "    def cleanup(self):\n",
        "        \"\"\"\n",
        "        Erase the values of the variables that we use in our computation.\n",
        "        \"\"\"\n",
        "        self.N = None\n",
        "        self.X = None\n",
        "        self.z1 = None\n",
        "        self.h = None\n",
        "        self.z2 = None\n",
        "        self.y = None\n",
        "        self.z2_bar = None\n",
        "        self.w2_bar = None\n",
        "        self.b2_bar = None\n",
        "        self.h_bar = None\n",
        "        self.z1_bar = None\n",
        "        self.w1_bar = None\n",
        "        self.b1_bar = None\n",
        "        self.t1 = None\n",
        "        self.t2 = None\n",
        "        self.t3 = None\n",
        "        self.x1 = None\n",
        "        self.x2 = None\n",
        "        self.x3 = None\n",
        "        \n"
      ],
      "execution_count": 0,
      "outputs": []
    },
    {
      "cell_type": "markdown",
      "metadata": {
        "id": "RHgyAipUsDEr",
        "colab_type": "text"
      },
      "source": [
        "### Part (b) -- 1 pts\n",
        "\n",
        "One strategy that machine learning practitioners use to debug their code\n",
        "is to *first try to overfit their model to a small training set*. If the\n",
        "gradient computation is correct and the data is encoded properly, then your\n",
        "model should easily achieve 100% training accuracy on a small training set.\n",
        "\n",
        "Show that your model is implemented correctly by showing that your model\n",
        "can achieve an 100% training accuracy within a few hundred iterations, when\n",
        "using a small training set (e.g. one batch)."
      ]
    },
    {
      "cell_type": "code",
      "metadata": {
        "id": "fKRoMCVXsDEr",
        "colab_type": "code",
        "outputId": "af5955f8-84c0-456b-b73c-1ef2719d21fd",
        "colab": {
          "base_uri": "https://localhost:8080/",
          "height": 867
        }
      },
      "source": [
        "numpy_wordemb = NumpyWordEmbModel()\n",
        "run_gradient_descent(numpy_wordemb, train4grams[:64], batch_size=64)"
      ],
      "execution_count": 141,
      "outputs": [
        {
          "output_type": "stream",
          "text": [
            "Iter 100. [Val Acc 17%] [Train Acc 11%, Loss 5.238020]\n",
            "Iter 200. [Val Acc 17%] [Train Acc 11%, Loss 4.782999]\n",
            "Iter 300. [Val Acc 17%] [Train Acc 11%, Loss 4.112343]\n",
            "Iter 400. [Val Acc 17%] [Train Acc 11%, Loss 3.794101]\n",
            "Iter 500. [Val Acc 17%] [Train Acc 11%, Loss 3.693610]\n",
            "Iter 600. [Val Acc 17%] [Train Acc 11%, Loss 3.596788]\n",
            "Iter 700. [Val Acc 15%] [Train Acc 12%, Loss 3.342501]\n",
            "Iter 800. [Val Acc 5%] [Train Acc 31%, Loss 2.916171]\n",
            "Iter 900. [Val Acc 5%] [Train Acc 42%, Loss 2.297096]\n",
            "Iter 1000. [Val Acc 5%] [Train Acc 73%, Loss 1.657942]\n",
            "Iter 1100. [Val Acc 5%] [Train Acc 86%, Loss 1.138551]\n",
            "Iter 1200. [Val Acc 4%] [Train Acc 97%, Loss 0.739518]\n",
            "Iter 1300. [Val Acc 3%] [Train Acc 98%, Loss 0.476902]\n",
            "Iter 1400. [Val Acc 3%] [Train Acc 100%, Loss 0.318368]\n",
            "Iter 1500. [Val Acc 3%] [Train Acc 100%, Loss 0.224200]\n",
            "Iter 1600. [Val Acc 3%] [Train Acc 100%, Loss 0.170798]\n",
            "Iter 1700. [Val Acc 3%] [Train Acc 100%, Loss 0.140162]\n",
            "Iter 1800. [Val Acc 3%] [Train Acc 100%, Loss 0.121558]\n",
            "Iter 1900. [Val Acc 3%] [Train Acc 100%, Loss 0.109343]\n",
            "Iter 2000. [Val Acc 3%] [Train Acc 100%, Loss 0.100813]\n",
            "Iter 2100. [Val Acc 3%] [Train Acc 100%, Loss 0.094554]\n",
            "Iter 2200. [Val Acc 3%] [Train Acc 100%, Loss 0.089763]\n",
            "Iter 2300. [Val Acc 3%] [Train Acc 100%, Loss 0.085966]\n",
            "Iter 2400. [Val Acc 3%] [Train Acc 100%, Loss 0.082867]\n",
            "Iter 2500. [Val Acc 3%] [Train Acc 100%, Loss 0.080273]\n",
            "Iter 2600. [Val Acc 3%] [Train Acc 100%, Loss 0.078049]\n",
            "Iter 2700. [Val Acc 3%] [Train Acc 100%, Loss 0.076106]\n",
            "Iter 2800. [Val Acc 3%] [Train Acc 100%, Loss 0.074376]\n",
            "Iter 2900. [Val Acc 3%] [Train Acc 100%, Loss 0.072810]\n",
            "Iter 3000. [Val Acc 3%] [Train Acc 100%, Loss 0.071371]\n",
            "Iter 3100. [Val Acc 3%] [Train Acc 100%, Loss 0.070029]\n",
            "Iter 3200. [Val Acc 3%] [Train Acc 100%, Loss 0.068761]\n",
            "Iter 3300. [Val Acc 3%] [Train Acc 100%, Loss 0.067549]\n",
            "Iter 3400. [Val Acc 3%] [Train Acc 100%, Loss 0.066380]\n",
            "Iter 3500. [Val Acc 3%] [Train Acc 100%, Loss 0.065242]\n",
            "Iter 3600. [Val Acc 3%] [Train Acc 100%, Loss 0.064124]\n",
            "Iter 3700. [Val Acc 3%] [Train Acc 100%, Loss 0.063020]\n",
            "Iter 3800. [Val Acc 3%] [Train Acc 100%, Loss 0.061922]\n",
            "Iter 3900. [Val Acc 3%] [Train Acc 100%, Loss 0.060826]\n",
            "Iter 4000. [Val Acc 3%] [Train Acc 100%, Loss 0.059726]\n",
            "Iter 4100. [Val Acc 3%] [Train Acc 100%, Loss 0.058620]\n",
            "Iter 4200. [Val Acc 3%] [Train Acc 100%, Loss 0.057504]\n",
            "Iter 4300. [Val Acc 3%] [Train Acc 100%, Loss 0.056377]\n",
            "Iter 4400. [Val Acc 3%] [Train Acc 100%, Loss 0.055236]\n",
            "Iter 4500. [Val Acc 3%] [Train Acc 100%, Loss 0.054081]\n",
            "Iter 4600. [Val Acc 3%] [Train Acc 100%, Loss 0.052910]\n",
            "Iter 4700. [Val Acc 3%] [Train Acc 100%, Loss 0.051724]\n",
            "Iter 4800. [Val Acc 3%] [Train Acc 100%, Loss 0.050523]\n",
            "Iter 4900. [Val Acc 3%] [Train Acc 100%, Loss 0.049307]\n",
            "Iter 5000. [Val Acc 3%] [Train Acc 100%, Loss 0.048077]\n"
          ],
          "name": "stdout"
        }
      ]
    },
    {
      "cell_type": "markdown",
      "metadata": {
        "id": "mcW9jxbksDEy",
        "colab_type": "text"
      },
      "source": [
        "### Part (c) -- 2 pts\n",
        "\n",
        "Train your model from part (a) to obtain a training accuracy of at least 25%."
      ]
    },
    {
      "cell_type": "code",
      "metadata": {
        "id": "t-OXmyn_sDE1",
        "colab_type": "code",
        "colab": {
          "base_uri": "https://localhost:8080/",
          "height": 867
        },
        "outputId": "3249a07b-a6e5-4ee9-eed9-81f8df3c47a5"
      },
      "source": [
        "# Your code goes here\n",
        "# Batch_size=64 and Learning_rate=0.9 works well\n",
        "numpy_wordemb = NumpyWordEmbModel()\n",
        "run_gradient_descent(numpy_wordemb, train4grams, batch_size=100, learning_rate=0.2)"
      ],
      "execution_count": 82,
      "outputs": [
        {
          "output_type": "stream",
          "text": [
            "Iter 100. [Val Acc 17%] [Train Acc 17%, Loss 4.339479]\n",
            "Iter 200. [Val Acc 20%] [Train Acc 20%, Loss 4.538087]\n",
            "Iter 300. [Val Acc 20%] [Train Acc 20%, Loss 4.279647]\n",
            "Iter 400. [Val Acc 20%] [Train Acc 20%, Loss 4.247626]\n",
            "Iter 500. [Val Acc 22%] [Train Acc 22%, Loss 3.777902]\n",
            "Iter 600. [Val Acc 23%] [Train Acc 23%, Loss 3.839935]\n",
            "Iter 700. [Val Acc 24%] [Train Acc 24%, Loss 3.803214]\n",
            "Iter 800. [Val Acc 24%] [Train Acc 24%, Loss 3.856346]\n",
            "Iter 900. [Val Acc 25%] [Train Acc 25%, Loss 3.936506]\n",
            "Iter 1000. [Val Acc 25%] [Train Acc 26%, Loss 3.174730]\n",
            "Iter 1100. [Val Acc 26%] [Train Acc 26%, Loss 3.546384]\n",
            "Iter 1200. [Val Acc 27%] [Train Acc 27%, Loss 3.298849]\n",
            "Iter 1300. [Val Acc 28%] [Train Acc 27%, Loss 3.292917]\n",
            "Iter 1400. [Val Acc 28%] [Train Acc 28%, Loss 3.285505]\n",
            "Iter 1500. [Val Acc 28%] [Train Acc 28%, Loss 3.036574]\n",
            "Iter 1600. [Val Acc 29%] [Train Acc 29%, Loss 3.364795]\n",
            "Iter 1700. [Val Acc 28%] [Train Acc 29%, Loss 3.491351]\n",
            "Iter 1800. [Val Acc 29%] [Train Acc 29%, Loss 3.367510]\n",
            "Iter 1900. [Val Acc 29%] [Train Acc 30%, Loss 3.486125]\n",
            "Iter 2000. [Val Acc 28%] [Train Acc 28%, Loss 3.338274]\n",
            "Iter 2100. [Val Acc 29%] [Train Acc 29%, Loss 2.536842]\n",
            "Iter 2200. [Val Acc 29%] [Train Acc 30%, Loss 3.218098]\n",
            "Iter 2300. [Val Acc 30%] [Train Acc 30%, Loss 2.778345]\n",
            "Iter 2400. [Val Acc 30%] [Train Acc 30%, Loss 3.173636]\n",
            "Iter 2500. [Val Acc 31%] [Train Acc 31%, Loss 2.900513]\n",
            "Iter 2600. [Val Acc 31%] [Train Acc 31%, Loss 3.349733]\n",
            "Iter 2700. [Val Acc 31%] [Train Acc 31%, Loss 3.157296]\n",
            "Iter 2800. [Val Acc 31%] [Train Acc 31%, Loss 2.954525]\n",
            "Iter 2900. [Val Acc 30%] [Train Acc 30%, Loss 3.419804]\n",
            "Iter 3000. [Val Acc 31%] [Train Acc 31%, Loss 3.295901]\n",
            "Iter 3100. [Val Acc 32%] [Train Acc 32%, Loss 3.230602]\n",
            "Iter 3200. [Val Acc 32%] [Train Acc 31%, Loss 3.194947]\n",
            "Iter 3300. [Val Acc 32%] [Train Acc 32%, Loss 3.471677]\n",
            "Iter 3400. [Val Acc 32%] [Train Acc 31%, Loss 3.027217]\n",
            "Iter 3500. [Val Acc 32%] [Train Acc 32%, Loss 2.943863]\n",
            "Iter 3600. [Val Acc 32%] [Train Acc 32%, Loss 2.650838]\n",
            "Iter 3700. [Val Acc 31%] [Train Acc 31%, Loss 2.883764]\n",
            "Iter 3800. [Val Acc 32%] [Train Acc 34%, Loss 2.995114]\n",
            "Iter 3900. [Val Acc 31%] [Train Acc 32%, Loss 3.175832]\n",
            "Iter 4000. [Val Acc 33%] [Train Acc 32%, Loss 2.759260]\n",
            "Iter 4100. [Val Acc 33%] [Train Acc 32%, Loss 2.940370]\n",
            "Iter 4200. [Val Acc 33%] [Train Acc 33%, Loss 2.853509]\n",
            "Iter 4300. [Val Acc 33%] [Train Acc 33%, Loss 3.027592]\n",
            "Iter 4400. [Val Acc 32%] [Train Acc 32%, Loss 2.743914]\n",
            "Iter 4500. [Val Acc 32%] [Train Acc 33%, Loss 2.988269]\n",
            "Iter 4600. [Val Acc 33%] [Train Acc 33%, Loss 2.905811]\n",
            "Iter 4700. [Val Acc 34%] [Train Acc 33%, Loss 2.905290]\n",
            "Iter 4800. [Val Acc 33%] [Train Acc 33%, Loss 3.023867]\n",
            "Iter 4900. [Val Acc 33%] [Train Acc 33%, Loss 3.053622]\n",
            "Iter 5000. [Val Acc 33%] [Train Acc 33%, Loss 2.627464]\n"
          ],
          "name": "stdout"
        }
      ]
    },
    {
      "cell_type": "markdown",
      "metadata": {
        "id": "8lbNtm_LsDE-",
        "colab_type": "text"
      },
      "source": [
        "### Part (d) -- 2 pts\n",
        "\n",
        "The PyTorch version of the model is implemented for you. Use \n",
        "`run_pytorch_gradient_descent` to train\n",
        "your PyTorch MLP model to obtain a training accuracy of at least 38%.\n",
        "Plot the learning curve using the `plot_learning_curve` function provided\n",
        "to you, and include your plot in your PDF submission.\n",
        "\n",
        "Make sure that you checkpoint frequently. We will be using ..."
      ]
    },
    {
      "cell_type": "code",
      "metadata": {
        "id": "HmO1qDXMsDFB",
        "colab_type": "code",
        "colab": {
          "base_uri": "https://localhost:8080/",
          "height": 1000
        },
        "outputId": "28e12ac5-4134-4ba2-c56c-e83dd74760d9"
      },
      "source": [
        "class PyTorchWordEmb(nn.Module):\n",
        "    def __init__(self, emb_size=100, num_hidden=300, vocab_size=250):\n",
        "        super(PyTorchWordEmb, self).__init__()\n",
        "        self.word_emb_layer = nn.Linear(vocab_size, emb_size, bias=False)\n",
        "        self.fc_layer1 = nn.Linear(emb_size * 3, num_hidden)\n",
        "        self.fc_layer2 = nn.Linear(num_hidden, 250)\n",
        "        self.num_hidden = num_hidden\n",
        "        self.emb_size = emb_size\n",
        "    def forward(self, inp):\n",
        "        embeddings = torch.relu(self.word_emb_layer(inp))\n",
        "        embeddings = embeddings.reshape([-1, self.emb_size * 3])\n",
        "        hidden = torch.relu(self.fc_layer1(embeddings))\n",
        "        return self.fc_layer2(hidden)\n",
        "\n",
        "\n",
        "pytorch_wordemb= PyTorchWordEmb()\n",
        "\n",
        "result = run_pytorch_gradient_descent(pytorch_wordemb,\n",
        "                                      batch_size=500,\n",
        "                                      learning_rate=0.0015,\n",
        "                                      max_iters=20000)\n",
        "\n",
        "plot_learning_curve(*result)"
      ],
      "execution_count": 87,
      "outputs": [
        {
          "output_type": "stream",
          "text": [
            "Iter 0. [Val Acc 1%] [Train Acc 5%, Loss 5.525202]\n",
            "Iter 500. [Val Acc 26%] [Train Acc 23%, Loss 3.113472]\n",
            "Iter 1000. [Val Acc 28%] [Train Acc 29%, Loss 2.885279]\n",
            "Iter 1500. [Val Acc 32%] [Train Acc 31%, Loss 2.764229]\n",
            "Iter 2000. [Val Acc 32%] [Train Acc 34%, Loss 2.802444]\n",
            "Iter 2500. [Val Acc 33%] [Train Acc 34%, Loss 2.574386]\n",
            "Iter 3000. [Val Acc 35%] [Train Acc 34%, Loss 2.683077]\n",
            "Iter 3500. [Val Acc 33%] [Train Acc 35%, Loss 2.572157]\n",
            "Iter 4000. [Val Acc 31%] [Train Acc 36%, Loss 2.655895]\n",
            "Iter 4500. [Val Acc 33%] [Train Acc 37%, Loss 2.388591]\n",
            "Iter 5000. [Val Acc 34%] [Train Acc 37%, Loss 2.404530]\n",
            "Iter 5500. [Val Acc 31%] [Train Acc 37%, Loss 2.602261]\n",
            "Iter 6000. [Val Acc 32%] [Train Acc 37%, Loss 2.408976]\n",
            "Iter 6500. [Val Acc 33%] [Train Acc 36%, Loss 2.528494]\n",
            "Iter 7000. [Val Acc 30%] [Train Acc 35%, Loss 2.272732]\n",
            "Iter 7500. [Val Acc 29%] [Train Acc 37%, Loss 2.272775]\n",
            "Iter 8000. [Val Acc 32%] [Train Acc 39%, Loss 2.441616]\n",
            "Iter 8500. [Val Acc 34%] [Train Acc 37%, Loss 2.334438]\n",
            "Iter 9000. [Val Acc 30%] [Train Acc 37%, Loss 2.316625]\n",
            "Iter 9500. [Val Acc 35%] [Train Acc 36%, Loss 2.430444]\n",
            "Iter 10000. [Val Acc 33%] [Train Acc 40%, Loss 2.290998]\n",
            "Iter 10500. [Val Acc 31%] [Train Acc 40%, Loss 2.370950]\n",
            "Iter 11000. [Val Acc 30%] [Train Acc 37%, Loss 2.440850]\n",
            "Iter 11500. [Val Acc 32%] [Train Acc 40%, Loss 2.263775]\n",
            "Iter 12000. [Val Acc 35%] [Train Acc 41%, Loss 2.169951]\n",
            "Iter 12500. [Val Acc 35%] [Train Acc 38%, Loss 2.211341]\n",
            "Iter 13000. [Val Acc 34%] [Train Acc 36%, Loss 2.301395]\n",
            "Iter 13500. [Val Acc 33%] [Train Acc 35%, Loss 2.206218]\n",
            "Iter 14000. [Val Acc 31%] [Train Acc 40%, Loss 2.382088]\n",
            "Iter 14500. [Val Acc 35%] [Train Acc 35%, Loss 2.230061]\n",
            "Iter 15000. [Val Acc 33%] [Train Acc 39%, Loss 2.226143]\n",
            "Iter 15500. [Val Acc 31%] [Train Acc 38%, Loss 2.273039]\n",
            "Iter 16000. [Val Acc 37%] [Train Acc 37%, Loss 2.287487]\n",
            "Iter 16500. [Val Acc 35%] [Train Acc 38%, Loss 2.331805]\n",
            "Iter 17000. [Val Acc 31%] [Train Acc 39%, Loss 2.317091]\n",
            "Iter 17500. [Val Acc 35%] [Train Acc 38%, Loss 2.224284]\n",
            "Iter 18000. [Val Acc 32%] [Train Acc 41%, Loss 2.235645]\n",
            "Iter 18500. [Val Acc 34%] [Train Acc 43%, Loss 2.291113]\n",
            "Iter 19000. [Val Acc 34%] [Train Acc 37%, Loss 2.255849]\n",
            "Iter 19500. [Val Acc 32%] [Train Acc 42%, Loss 2.214118]\n",
            "Iter 20000. [Val Acc 35%] [Train Acc 43%, Loss 2.248882]\n"
          ],
          "name": "stdout"
        },
        {
          "output_type": "display_data",
          "data": {
            "image/png": "[encoded data removed]",
            "text/plain": [
              "<Figure size 432x288 with 1 Axes>"
            ]
          },
          "metadata": {
            "tags": []
          }
        },
        {
          "output_type": "display_data",
          "data": {
            "image/png": "[encoded data removed]",
            "text/plain": [
              "<Figure size 432x288 with 1 Axes>"
            ]
          },
          "metadata": {
            "tags": []
          }
        }
      ]
    },
    {
      "cell_type": "markdown",
      "metadata": {
        "id": "2MO4VHzxsDFF",
        "colab_type": "text"
      },
      "source": [
        "### Part (e) -- 2 pts\n",
        "\n",
        "Use the function `make_prediction` that you wrote earlier to  \n",
        "predict what the next word should be in each of the following sentences:\n",
        "\n",
        "- \"You are a\"\n",
        "- \"few companies show\"\n",
        "- \"There are no\"\n",
        "- \"yesterday i was\"\n",
        "- \"the game had\"\n",
        "- \"yesterday the federal\"\n",
        "\n",
        "How do these predictions compared to the previous model?\n",
        "\n",
        "Just like before, if all of your predictions are the same,\n",
        "train your model for more iterations, or change the hyperparameters in your\n",
        "model. You may need to do this even if your training accuracy is >=38%."
      ]
    },
    {
      "cell_type": "code",
      "metadata": {
        "id": "E-aHJ62TsDFF",
        "colab_type": "code",
        "colab": {
          "base_uri": "https://localhost:8080/",
          "height": 119
        },
        "outputId": "a6b64a0f-98d5-48c4-90d5-32c6093220f8"
      },
      "source": [
        "# Your code goes here\n",
        "print(make_prediction_torch(pytorch_wordemb, ['you','are','a']))\n",
        "print(make_prediction_torch(pytorch_wordemb, ['few','companies','show']))\n",
        "print(make_prediction_torch(pytorch_wordemb, ['there','are','no']))\n",
        "print(make_prediction_torch(pytorch_wordemb, ['yesterday','i','was']))\n",
        "print(make_prediction_torch(pytorch_wordemb, ['the','game','had']))\n",
        "print(make_prediction_torch(pytorch_wordemb, ['yesterday','the','federal']))\n",
        "\n",
        "# Each prediction from this model makes sense, compared to the previous model where most of them made sense aside from the second sentence.\n",
        "# This would imply that this model performs better and makes better predictions.\n"
      ],
      "execution_count": 92,
      "outputs": [
        {
          "output_type": "stream",
          "text": [
            "man\n",
            "them\n",
            "women\n",
            "nt\n",
            "to\n",
            "government\n"
          ],
          "name": "stdout"
        }
      ]
    },
    {
      "cell_type": "markdown",
      "metadata": {
        "id": "77wk9K6nsDFL",
        "colab_type": "text"
      },
      "source": [
        "### Part (f) -- 1 pts\n",
        "\n",
        "Report the test accuracy of your model"
      ]
    },
    {
      "cell_type": "code",
      "metadata": {
        "id": "TvW2hMPVsDFM",
        "colab_type": "code",
        "colab": {
          "base_uri": "https://localhost:8080/",
          "height": 34
        },
        "outputId": "ec4e41cf-ec64-4fef-901f-3a6a50e393fa"
      },
      "source": [
        "# Write your code here\n",
        "test_acc = estimate_accuracy_torch(pytorch_wordemb, test4grams)\n",
        "print(\"Test accuracy = \"+str(test_acc))\n"
      ],
      "execution_count": 91,
      "outputs": [
        {
          "output_type": "stream",
          "text": [
            "Test accuracy = 0.38185993111366245\n"
          ],
          "name": "stdout"
        }
      ]
    },
    {
      "cell_type": "markdown",
      "metadata": {
        "id": "VD9LUFVwsDFS",
        "colab_type": "text"
      },
      "source": [
        "## Question 4. Visualizing Word Embeddings\n",
        "\n",
        "While training the `PyTorchMLP`, we trained the `word_emb_layer`, which takes a one-hot\n",
        "representation of a word in our vocabulary, and returns a low-dimensional vector\n",
        "representation of that word. In this question, we will explore these word embeddings.\n",
        "\n",
        "### Part (a) -- 2 pts\n",
        "\n",
        "The code below extracts the **weights** of the word embedding layer,\n",
        "and converts the PyTorch tensor into an numpy array.\n",
        "Explain why each *row* of `word_emb` contains the vector representing\n",
        "of a word. For example `word_emb[vocab_stoi[\"any\"],:]` contains the\n",
        "vector representation of the word \"any\"."
      ]
    },
    {
      "cell_type": "code",
      "metadata": {
        "id": "32WiI0H3sDFT",
        "colab_type": "code",
        "colab": {
          "base_uri": "https://localhost:8080/",
          "height": 51
        },
        "outputId": "492b547f-60f7-4c1f-9d21-e3d370c85ce9"
      },
      "source": [
        "word_emb_weights = list(pytorch_wordemb.word_emb_layer.parameters())[0]\n",
        "word_emb = word_emb_weights.detach().numpy().T\n",
        "print(word_emb_weights.shape)\n",
        "print(word_emb.shape)\n",
        "\n",
        "\n",
        "# Write your explanation here\n",
        "# The first layer of the neural network was made such that all words\n",
        "# regardless of index in the n-gram set. Hence, for each input, it is \n",
        "# 'seen' as a set of 3 words that is fed into the first layer of the neural net.\n",
        "# So we are training based on similarity between the 3 words and the loss they give. "
      ],
      "execution_count": 138,
      "outputs": [
        {
          "output_type": "stream",
          "text": [
            "torch.Size([100, 250])\n",
            "(250, 100)\n"
          ],
          "name": "stdout"
        }
      ]
    },
    {
      "cell_type": "markdown",
      "metadata": {
        "id": "IuZ5rMG_sDFY",
        "colab_type": "text"
      },
      "source": [
        "### Part (b) -- 2 pts\n",
        "\n",
        "Once interesting thing about these word embeddings is that distances\n",
        "in these vector representations of words make some sense! To show this,\n",
        "we have provided code below that computes the cosine similarity of\n",
        "every pair of words in our vocabulary. This code should look familiar,\n",
        "since we have seen it in project 1."
      ]
    },
    {
      "cell_type": "code",
      "metadata": {
        "id": "e7OJL-T7sDFZ",
        "colab_type": "code",
        "colab": {
          "base_uri": "https://localhost:8080/",
          "height": 51
        },
        "outputId": "7eff181b-419b-4b6e-e70e-4d4ebcfe5beb"
      },
      "source": [
        "norms = np.linalg.norm(word_emb, axis=1)\n",
        "word_emb_norm = (word_emb.T / norms).T\n",
        "similarities = np.matmul(word_emb_norm, word_emb_norm.T)\n",
        "\n",
        "# Some example distances. The first one should be larger than the second\n",
        "print(similarities[vocab_stoi['any'], vocab_stoi['many']])\n",
        "print(similarities[vocab_stoi['any'], vocab_stoi['government']])"
      ],
      "execution_count": 131,
      "outputs": [
        {
          "output_type": "stream",
          "text": [
            "0.25443277\n",
            "0.18662688\n"
          ],
          "name": "stdout"
        }
      ]
    },
    {
      "cell_type": "markdown",
      "metadata": {
        "id": "Yzexj3E5sDFe",
        "colab_type": "text"
      },
      "source": [
        "Compute the 5 closest words to the following words:\n",
        "\n",
        "- \"four\"\n",
        "- \"go\"\n",
        "- \"what\"\n",
        "- \"should\"\n",
        "- \"school\"\n",
        "- \"your\"\n",
        "- \"yesterday\"\n",
        "- \"not\""
      ]
    },
    {
      "cell_type": "code",
      "metadata": {
        "id": "uaZnEaipsDFg",
        "colab_type": "code",
        "colab": {
          "base_uri": "https://localhost:8080/",
          "height": 187
        },
        "outputId": "ee0735e4-395b-4bce-bf6d-bb8c2d9927ca"
      },
      "source": [
        "# Write your code here\n",
        "for word in [\"four\", \"go\", \"what\", \"should\", \"school\", \"your\", \"yesterday\", \"not\"]:\n",
        "  closeness = np.sort(similarities[vocab_stoi[word]])\n",
        "  l = [closeness[-2], closeness[-3], closeness[-4], closeness[-5], closeness[-6]]\n",
        "  for key in range(250):\n",
        "    nw = similarities[vocab_stoi[word], key]\n",
        "    if (nw == l[0]):\n",
        "      l[0] = vocab_itos[key];\n",
        "    elif (nw == l[1]):\n",
        "      l[1] = vocab_itos[key];\n",
        "    elif (nw == l[2]):\n",
        "      l[2] = vocab_itos[key];\n",
        "    elif (nw == l[3]):\n",
        "      l[3] = vocab_itos[key];\n",
        "    elif (nw == l[4]):\n",
        "      l[4] = vocab_itos[key];\n",
        "  print (word + \": \" + str(l))\n",
        "\n"
      ],
      "execution_count": 136,
      "outputs": [
        {
          "output_type": "stream",
          "text": [
            "0.09609465\n",
            "0.09609465\n",
            "four: ['several', 'five', 'three', 'two', ')']\n",
            "go: ['going', 'back', 'come', 'day', 'long']\n",
            "what: ['which', 'who', 'how', 'ms.', 'like']\n",
            "should: ['would', 'can', 'could', 'university', 'may']\n",
            "school: ['work', 'home', 'university', 'also', 'good']\n",
            "your: ['my', 'our', 'his', 'the', 'their']\n",
            "yesterday: ['today', 'day', 'street', 'president', 'night']\n",
            "not: ['nt', 'never', 'director', 'to', 'even']\n"
          ],
          "name": "stdout"
        }
      ]
    },
    {
      "cell_type": "markdown",
      "metadata": {
        "id": "H2Eicd9QsDFm",
        "colab_type": "text"
      },
      "source": [
        "### Part (c) -- 2 pts\n",
        "\n",
        "We can visualize the word embeddings by reducing the dimensionality of\n",
        "the word vectors to 2D. There are many dimensionality reduction techniques\n",
        "that we could use, and we will use an algorithm called t-SNE.\n",
        "(You don’t need to know what this is for the assignment,\n",
        "but we may cover it later in the course.)\n",
        "Nearby points in this 2-D space are meant to correspond to nearby points\n",
        "in the original, high-dimensional space.\n",
        "\n",
        "The following code runs the t-SNE algorithm and plots the result.\n",
        "Look at the plot and find two clusters of related words.\n",
        "What do the words in each cluster have in common?\n",
        "\n",
        "Note that there is randomness in the initialization of the t-SNE \n",
        "algorithm. If you re-run this code, you may get a different image.\n",
        "Please make sure to submit your image in the PDF file for your TA to see."
      ]
    },
    {
      "cell_type": "code",
      "metadata": {
        "id": "pVBmQpuJsDFm",
        "colab_type": "code",
        "colab": {
          "base_uri": "https://localhost:8080/",
          "height": 600
        },
        "outputId": "50a03cbf-61d0-45f5-c894-24132a53a20a"
      },
      "source": [
        "import sklearn.manifold\n",
        "tsne = sklearn.manifold.TSNE()\n",
        "Y = tsne.fit_transform(word_emb)\n",
        "\n",
        "plt.figure(figsize=(10, 10))\n",
        "plt.xlim(Y[:,0].min(), Y[:, 0].max())\n",
        "plt.ylim(Y[:,1].min(), Y[:, 1].max())\n",
        "for i, w in enumerate(vocab):\n",
        "    plt.text(Y[i, 0], Y[i, 1], w)\n",
        "plt.show()\n",
        "\n",
        "# Near the top in the middle, we see made and make together. These words have the same meaning the difference is their tense.\n",
        "# Another cluster is in the upper right where we see should, could, would, etc. All of these words serve the same role in a sentence\n",
        "# They determine likeliness of a verb. As a result, they all occur within the same place in a sentence. That is why they are close together."
      ],
      "execution_count": 94,
      "outputs": [
        {
          "output_type": "display_data",
          "data": {
            "image/png": "[encoded data removed]",
            "text/plain": [
              "<Figure size 720x720 with 1 Axes>"
            ]
          },
          "metadata": {
            "tags": []
          }
        }
      ]
    }
  ]
}