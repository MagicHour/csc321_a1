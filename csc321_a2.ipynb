{
  "nbformat": 4,
  "nbformat_minor": 0,
  "metadata": {
    "colab": {
      "name": "csc321_a2.ipynb",
      "provenance": [],
      "collapsed_sections": [],
      "toc_visible": true,
      "include_colab_link": true
    },
    "kernelspec": {
      "name": "python3",
      "display_name": "Python 3"
    }
  },
  "cells": [
    {
      "cell_type": "markdown",
      "metadata": {
        "id": "view-in-github",
        "colab_type": "text"
      },
      "source": [
        "<a href=\"https://colab.research.google.com/github/MagicHour/csc321_a1/blob/master/csc321_a2.ipynb\" target=\"_parent\"><img src=\"https://colab.research.google.com/assets/colab-badge.svg\" alt=\"Open In Colab\"/></a>"
      ]
    },
    {
      "cell_type": "markdown",
      "metadata": {
        "id": "VgimEp7IsDA2",
        "colab_type": "text"
      },
      "source": [
        "# CSC321H5 Project 2.\n",
        "\n",
        "**Deadline**: Thursday, Feb. 13, by 9pm\n",
        "\n",
        "**Submission**: Submit a PDF export of the completed notebook. \n",
        "\n",
        "**Late Submission**: Please see the syllabus for the late submission criteria.\n",
        "\n",
        "Based on an assignment by George Dahl, Jing Yao Li, and Roger Grosse\n",
        "\n",
        "In this assignment, we will make a neural network that can predict the next word\n",
        "in a sentence given the previous three. \n",
        "We'll explore a couple of different models to perform this prediction task. We will also do this\n",
        "problem twice: once in PyTorch, and once using numpy. When using numpy, you'll implement\n",
        "the backpropagation computation.\n",
        "\n",
        "In doing this prediction task, our neural networks will learn about *words* and about\n",
        "how to represent words. We'll explore the *vector representations* of words that our\n",
        "model produces, and analyze these representations.\n",
        "\n",
        "You may modify the starter code as you see fit, including changing the signatures of\n",
        "functions and adding/removing helper functions. However, please make sure that your\n",
        "TA can understand what you are doing and why."
      ]
    },
    {
      "cell_type": "code",
      "metadata": {
        "id": "c0O6d0qEsDA-",
        "colab_type": "code",
        "colab": {}
      },
      "source": [
        "import pandas\n",
        "import numpy as np\n",
        "import matplotlib.pyplot as plt\n",
        "\n",
        "import torch\n",
        "import torch.nn as nn\n",
        "import torch.optim as optim"
      ],
      "execution_count": 0,
      "outputs": []
    },
    {
      "cell_type": "markdown",
      "metadata": {
        "id": "F9g1eX3QsDBR",
        "colab_type": "text"
      },
      "source": [
        "## Question 1. Data\n",
        "\n",
        "With any machine learning problem, the first thing that we would want to do\n",
        "is to get an intuitive understanding of what our data looks like. Download the file\n",
        "`raw_sentences.txt` from `https://www.cs.toronto.edu/~lczhang/321/hw/raw_sentences.txt`\n",
        "and upload it to Google Drive.\n",
        "Then, mount Google Drive from your Google Colab notebook:"
      ]
    },
    {
      "cell_type": "code",
      "metadata": {
        "id": "nRN6paNBsDBU",
        "colab_type": "code",
        "outputId": "9e3603d0-bf52-459a-aafb-256b8a733d6b",
        "colab": {
          "base_uri": "https://localhost:8080/",
          "height": 55
        }
      },
      "source": [
        "from google.colab import drive\n",
        "drive.mount('/content/gdrive')"
      ],
      "execution_count": 7,
      "outputs": [
        {
          "output_type": "stream",
          "text": [
            "Drive already mounted at /content/gdrive; to attempt to forcibly remount, call drive.mount(\"/content/gdrive\", force_remount=True).\n"
          ],
          "name": "stdout"
        }
      ]
    },
    {
      "cell_type": "markdown",
      "metadata": {
        "id": "S_7cApKvsDBh",
        "colab_type": "text"
      },
      "source": [
        "Find the path to `raw_sentences.txt`:"
      ]
    },
    {
      "cell_type": "code",
      "metadata": {
        "id": "FA-6IOmcsDBk",
        "colab_type": "code",
        "colab": {}
      },
      "source": [
        "file_path = '/content/gdrive/My Drive/CSC321/raw_sentences.txt' # TODO - UPDATE ME!"
      ],
      "execution_count": 0,
      "outputs": []
    },
    {
      "cell_type": "markdown",
      "metadata": {
        "id": "-6MudcKisDBv",
        "colab_type": "text"
      },
      "source": [
        "You might find it helpful to know that you can run shell commands (like `ls`) by\n",
        "using `!` in Google Colab, like this:"
      ]
    },
    {
      "cell_type": "code",
      "metadata": {
        "id": "uau8M38gsDBy",
        "colab_type": "code",
        "outputId": "b2f1f233-aa36-43ae-cc86-c42c7a721adf",
        "colab": {
          "base_uri": "https://localhost:8080/",
          "height": 1000
        }
      },
      "source": [
        "!ls /content/gdrive/My\\ Drive/\n",
        "#!mkdir /content/gdrive/My\\ Drive/CSC321"
      ],
      "execution_count": 9,
      "outputs": [
        {
          "output_type": "stream",
          "text": [
            " 20151221_115249.jpg\t        20160323_161616.jpg\n",
            " 20151221_115255.jpg\t        20160323_161628.jpg\n",
            " 20151221_115258.jpg\t        20160323_161636.jpg\n",
            " 20151221_115434.jpg\t        20160323_163041.jpg\n",
            " 20151221_115503.jpg\t        20160323_163049.jpg\n",
            " 20151221_115706.jpg\t        20160323_163953.jpg\n",
            " 20151221_122424.jpg\t        20160323_164002.jpg\n",
            " 20151221_122428.jpg\t        20160412_203442.jpg\n",
            " 20151221_122440.jpg\t        20160412_203505.jpg\n",
            " 20151221_122501.jpg\t        20160412_203519.jpg\n",
            " 20151221_122511.jpg\t        20160414_093456.jpg\n",
            " 20151221_122722.jpg\t        20160414_093526.jpg\n",
            " 20151221_122732.jpg\t        20160522_140741.jpg\n",
            " 20151221_122752.jpg\t        20160522_140808.jpg\n",
            " 20151221_150538.jpg\t        20160522_140817.jpg\n",
            " 20151221_150559.jpg\t        20160527_152137.jpg\n",
            " 20151226_192200.jpg\t        20160527_152555.jpg\n",
            " 20151226_192205.jpg\t        20160529_194828.jpg\n",
            " 20151226_192210.jpg\t        20160529_194846.jpg\n",
            " 20151226_192233.jpg\t        20160625_122446.jpg\n",
            " 20151228_094240.jpg\t        20160625_122505.jpg\n",
            " 20151230_201907.jpg\t        20160625_123823.jpg\n",
            " 20151230_201927.jpg\t        20160627_103918.jpg\n",
            " 20151230_201950.jpg\t        20160627_103927.jpg\n",
            " 20151230_202041.jpg\t        20160627_103939.jpg\n",
            " 20151230_202051.jpg\t        20160627_104000.jpg\n",
            " 20151230_202052.jpg\t        20160627_105307.jpg\n",
            " 20151230_202216.jpg\t        20160627_105316.jpg\n",
            " 20151230_202326.jpg\t        20160701_105645.jpg\n",
            " 20151230_203208.jpg\t        20160701_105648_001.jpg\n",
            " 20151230_203224.jpg\t        20160701_105648_002.jpg\n",
            " 20151230_203248.jpg\t        20160701_105648_003.jpg\n",
            " 20151230_203315.jpg\t        20160701_105648_004.jpg\n",
            " 20151230_203355.jpg\t        20160701_105648_005.jpg\n",
            " 20151230_203407.jpg\t        20160701_105648_006.jpg\n",
            " 20151230_203425.jpg\t        20160701_105703.jpg\n",
            " 20151230_203430.jpg\t        20160701_105756.jpg\n",
            " 20151230_203449.jpg\t        20160701_105758.jpg\n",
            " 20151230_203523.jpg\t        20160701_105818.jpg\n",
            " 20151230_203538.jpg\t        20160701_105825.jpg\n",
            " 20151230_203604.jpg\t        20160701_105851.jpg\n",
            " 20151230_203637.jpg\t        20160701_105853.jpg\n",
            " 20151230_204906.jpg\t        20160912_174729.jpg\n",
            " 20151230_205016.jpg\t        20160929_141248.jpg\n",
            " 20151231_175601.jpg\t        20160929_141250.jpg\n",
            " 20151231_175605.jpg\t        20160929_141319.jpg\n",
            " 20151231_175611.jpg\t        20161129_212538.jpg\n",
            " 20151231_181113.jpg\t        20161129_212546.jpg\n",
            " 20151231_181143.jpg\t        20161129_212551.jpg\n",
            " 20151231_181729.jpg\t        20161205_202229.jpg\n",
            " 20151231_182357.jpg\t        20161205_202234.jpg\n",
            " 20151231_182507.jpg\t        20161213_224013.jpg\n",
            " 20151231_183602.jpg\t        20161226_221856.jpg\n",
            " 20151231_183718.jpg\t        20161226_223235.jpg\n",
            " 20151231_183739.jpg\t        20170408_211946.jpg\n",
            " 20160101_111445.jpg\t        20170408_211954.jpg\n",
            "'2016-01-01 13.09.00 (1).jpg'   20170506_095330.jpg\n",
            "'2016-01-01 13.09.00.jpg'       20170617_144700.jpg\n",
            "'2016-01-01 13.09.50 (1).jpg'   20170627_095236.jpg\n",
            "'2016-01-01 13.09.50.jpg'       20170731_204708.jpg\n",
            " 20160102_175852.jpg\t        20170801_183823.jpg\n",
            " 20160102_180944.jpg\t        20170802_182730.jpg\n",
            " 20160102_180946.jpg\t        20170810_084718.jpg\n",
            " 20160102_181109.jpg\t       'Colab Notebooks'\n",
            " 20160102_184136.jpg\t       'Consulting proposal.gslides'\n",
            " 20160102_184255.jpg\t        CSC321\n",
            " 20160102_184925.jpg\t       'csc343 a3.gdoc'\n",
            " 20160102_184934.jpg\t       'HRE3M1courseoutline (1).pdf'\n",
            " 20160209_151635.jpg\t        HRE3M1courseoutline-1.pdf\n",
            " 20160226_123904.jpg\t       'HRE3M1courseoutline (2).pdf'\n",
            " 20160226_123917.jpg\t       'HRE3M1courseoutline (3).pdf'\n",
            " 20160323_152201.jpg\t        HRE3M1courseoutline.pdf\n",
            " 20160323_152406.jpg\t       'Louis Armstrong - La Vie En Rose - SoundCloud'\n",
            " 20160323_152522.jpg\t       'Randy MRI'\n",
            " 20160323_153148.jpg\t       'Sea_of_Stories_Allegory (1).doc.pdf'\n",
            " 20160323_153800.jpg\t       'Sea_of_Stories_Allegory (2).doc.pdf'\n",
            " 20160323_154726.jpg\t       'Sea_of_Stories_Allegory (3).doc.pdf'\n",
            " 20160323_154855.jpg\t        Sea_of_Stories_Allegory.doc.pdf\n",
            " 20160323_155535.jpg\n"
          ],
          "name": "stdout"
        }
      ]
    },
    {
      "cell_type": "markdown",
      "metadata": {
        "id": "OMKBG6yhsDB9",
        "colab_type": "text"
      },
      "source": [
        "The following code reads the sentences in our file, split each sentence into\n",
        "its individual words, and stores the sentences (list of words) in the\n",
        "variable `sentences`."
      ]
    },
    {
      "cell_type": "code",
      "metadata": {
        "id": "czUHB83QsDCA",
        "colab_type": "code",
        "colab": {}
      },
      "source": [
        "sentences = []\n",
        "for line in open(file_path):\n",
        "    words = line.split()\n",
        "    sentence = [word.lower() for word in words]\n",
        "    sentences.append(sentence)"
      ],
      "execution_count": 0,
      "outputs": []
    },
    {
      "cell_type": "markdown",
      "metadata": {
        "id": "0YaHUlGosDCK",
        "colab_type": "text"
      },
      "source": [
        "There are 97,162 sentences in total, and \n",
        "these sentences are composed of 250 distinct words."
      ]
    },
    {
      "cell_type": "code",
      "metadata": {
        "id": "qQhWKI_tsDCQ",
        "colab_type": "code",
        "outputId": "9c4c5d31-174e-48ce-8dd3-ebe7f66aa027",
        "colab": {
          "base_uri": "https://localhost:8080/",
          "height": 54
        }
      },
      "source": [
        "vocab = set([w for s in sentences for w in s])\n",
        "print(len(sentences)) # 97162\n",
        "print(len(vocab)) # 250"
      ],
      "execution_count": 11,
      "outputs": [
        {
          "output_type": "stream",
          "text": [
            "97162\n",
            "250\n"
          ],
          "name": "stdout"
        }
      ]
    },
    {
      "cell_type": "markdown",
      "metadata": {
        "id": "J-3G6AeosDCb",
        "colab_type": "text"
      },
      "source": [
        "We'll separate our data into training, validation, and test.\n",
        "We'll use `10,000 sentences for test, 10,000 for validation, and\n",
        "the rest for training."
      ]
    },
    {
      "cell_type": "code",
      "metadata": {
        "id": "QHmgsN_usDCe",
        "colab_type": "code",
        "colab": {}
      },
      "source": [
        "test, valid, train = sentences[:10000], sentences[10000:20000], sentences[20000:]"
      ],
      "execution_count": 0,
      "outputs": []
    },
    {
      "cell_type": "markdown",
      "metadata": {
        "id": "q6dN4GBCsDCn",
        "colab_type": "text"
      },
      "source": [
        "### Part (a) -- 2 pts\n",
        "\n",
        "Display 10 sentences in the training set.\n",
        "Explain how punctuations are treated in our word representation, and how words\n",
        "with apostrophes are represented."
      ]
    },
    {
      "cell_type": "code",
      "metadata": {
        "id": "i1nUsdBmsDCr",
        "colab_type": "code",
        "outputId": "df58c56b-5414-4b63-a607-687ba25094db",
        "colab": {
          "base_uri": "https://localhost:8080/",
          "height": 55
        }
      },
      "source": [
        "# Your code goes here\n",
        "print(sentences[:10])\n",
        "#Words with apostrophes are represented as 2 words, the first half being the\n",
        "#base word, the second half being the contraction including the apostrophe."
      ],
      "execution_count": 13,
      "outputs": [
        {
          "output_type": "stream",
          "text": [
            "[['no', ',', 'he', 'says', 'now', '.'], ['and', 'what', 'did', 'he', 'do', '?'], ['the', 'money', \"'s\", 'there', '.'], ['that', 'was', 'less', 'than', 'a', 'year', 'ago', '.'], ['but', 'he', 'made', 'only', 'the', 'first', '.'], ['there', \"'s\", 'still', 'time', 'for', 'them', 'to', 'do', 'it', '.'], ['but', 'he', 'should', 'nt', 'have', '.'], ['they', 'have', 'to', 'come', 'down', 'to', 'the', 'people', '.'], ['i', 'do', 'nt', 'know', 'where', 'that', 'is', '.'], ['no', ',', 'i', 'would', 'nt', '.']]\n"
          ],
          "name": "stdout"
        }
      ]
    },
    {
      "cell_type": "markdown",
      "metadata": {
        "id": "-esgFlhtsDC3",
        "colab_type": "text"
      },
      "source": [
        "### Part (b) -- 2 pts\n",
        "\n",
        "What are the 10 most common words in the vocabulary? How often does each of these\n",
        "words appear in the training sentences? Express the second quantity a percentage\n",
        "(i.e. number of occurences of the  word / total number of words in the training set).\n",
        "\n",
        "These are good quantities to compute, because one of the first things a machine learning\n",
        "model will learn is to predict the **most common** class. Getting a sense of the\n",
        "distribution of our data will help you understand our model's behaviour.\n",
        "\n",
        "You can use Python's `collections.Counter` class if you would like to."
      ]
    },
    {
      "cell_type": "code",
      "metadata": {
        "id": "lBOqB6klsDC7",
        "colab_type": "code",
        "outputId": "ad3d5d4d-aee5-4414-f8d9-dc59aa2f32c2",
        "colab": {
          "base_uri": "https://localhost:8080/",
          "height": 201
        }
      },
      "source": [
        "# Your code goes here\n",
        "from collections import Counter\n",
        "\n",
        "count = Counter()\n",
        "total_words = 0\n",
        "for sentence in sentences:\n",
        "  for word in sentence:\n",
        "    count[word] += 1\n",
        "    total_words += 1\n",
        "\n",
        "for word, num in count.most_common(10):\n",
        "  print(word + \"  :\" + str((num/float(total_words))*100) + \"%\")"
      ],
      "execution_count": 14,
      "outputs": [
        {
          "output_type": "stream",
          "text": [
            ".  :10.694267616869087%\n",
            "it  :3.856455336436107%\n",
            ",  :3.2466863539592064%\n",
            "i  :2.9408113348089997%\n",
            "do  :2.673765009799623%\n",
            "to  :2.5802591749298704%\n",
            "nt  :2.173878590333504%\n",
            "?  :2.1408609932749756%\n",
            "the  :2.1050699180635313%\n",
            "that  :2.086051782157819%\n"
          ],
          "name": "stdout"
        }
      ]
    },
    {
      "cell_type": "markdown",
      "metadata": {
        "id": "52qwmLwpsDDE",
        "colab_type": "text"
      },
      "source": [
        "### Part (c) -- 4 pts\n",
        "\n",
        "Complete the helper functions `convert_words_to_indices` and\n",
        "`generate_4grams`, so that the function `process_data` will take a \n",
        "list of sentences (i.e. list of list of words), and generate an \n",
        "$$N \\times 4$$ numpy matrix containing indices of 4 words that appear\n",
        "next to each other. You can use the constances `vocab`, `vocab_itos`,\n",
        "and `vocab_stoi` in your code."
      ]
    },
    {
      "cell_type": "code",
      "metadata": {
        "id": "EdnhwXzvsDDG",
        "colab_type": "code",
        "colab": {}
      },
      "source": [
        "# A list of all the words in the data set. We will assign a unique \n",
        "# identifier for each of these words.\n",
        "vocab = sorted(list(set([w for s in train for w in s])))\n",
        "# A mapping of index => word (string)\n",
        "vocab_itos = dict(enumerate(vocab))\n",
        "# A mapping of word => its index\n",
        "vocab_stoi = {word:index for index, word in vocab_itos.items()}\n",
        "\n",
        "def convert_words_to_indices(sents):\n",
        "    \"\"\"\n",
        "    This function takes a list of sentences (list of list of words)\n",
        "    and returns a new list with the same structure, but where each word\n",
        "    is replaced by its index in `vocab_stoi`.\n",
        "\n",
        "    Example:\n",
        "    >>> convert_words_to_indices([['one', 'in', 'five', 'are', 'over', 'here'], ['other', 'one', 'since', 'yesterday'], ['you']])\n",
        "    [[148, 98, 70, 23, 154, 89], [151, 148, 181, 246], [248]]\n",
        "    \"\"\"\n",
        "    \n",
        "    #convert a single sentence into a list of corresponding indices\n",
        "    def sentence_to_indices(sent):\n",
        "      a = []\n",
        "      for word in sent:\n",
        "        a.append(vocab_stoi[word])\n",
        "      return a\n",
        "\n",
        "    # Write your code here\n",
        "    return list(map(sentence_to_indices, sents))\n",
        "\n",
        "def generate_4grams(seqs):\n",
        "    \"\"\"\n",
        "    This function takes a list of sentences (list of lists) and returns\n",
        "    a new list containing the 4-grams (four consequentively occuring words)\n",
        "    that appear in the sentences. Note that a unique 4-gram can appear multiple\n",
        "    times, one per each time that the 4-gram appears in the data parameter `seqs`.\n",
        "\n",
        "    Example:\n",
        "\n",
        "    >>> generate_4grams([[148, 98, 70, 23, 154, 89], [151, 148, 181, 246], [248]])\n",
        "    [[148, 98, 70, 23], [98, 70, 23, 154], [70, 23, 154, 89], [151, 148, 181, 246]]\n",
        "    >>> generate_4grams([[1, 1, 1, 1, 1]])\n",
        "    [[1, 1, 1, 1], [1, 1, 1, 1]]\n",
        "    \"\"\"\n",
        "\n",
        "    # Write your code here\n",
        "    total = []\n",
        "    for sentence in seqs:\n",
        "      for i in range(0, len(sentence)-3):\n",
        "        total.append(sentence[i:i+4])\n",
        "    \n",
        "    return total\n",
        "def process_data(sents):\n",
        "    \"\"\"\n",
        "    This function takes a list of sentences (list of lists), and generates an\n",
        "    numpy matrix with shape [N, 4] containing indices of words in 4-grams.\n",
        "    \"\"\"\n",
        "    indices = convert_words_to_indices(sents)\n",
        "    fourgrams = generate_4grams(indices)\n",
        "    return np.array(fourgrams)\n",
        "\n",
        "train4grams = process_data(train)\n",
        "valid4grams = process_data(valid)\n",
        "test4grams = process_data(test)"
      ],
      "execution_count": 0,
      "outputs": []
    },
    {
      "cell_type": "markdown",
      "metadata": {
        "id": "65f2D2hBsDDW",
        "colab_type": "text"
      },
      "source": [
        "## Question 2. A Multi-Layer Perceptron\n",
        "\n",
        "In this section, we will build a two-layer multi-layer perceptron.\n",
        "We will first do this in numpy, and then once more in PyTorch.\n",
        "Our model will look like this:\n",
        "\n",
        "<img src=\"https://www.cs.toronto.edu/~lczhang/321/hw/p2_model1.png\" />\n",
        "\n",
        "Start by reviewing these helper functions, which are given to you:"
      ]
    },
    {
      "cell_type": "code",
      "metadata": {
        "id": "dQPmrXhLsDDZ",
        "colab_type": "code",
        "colab": {}
      },
      "source": [
        "def make_onehot(indicies, total=250):\n",
        "    \"\"\"\n",
        "    Convert indicies into one-hot vectors by\n",
        "        1. Creating an identity matrix of shape [total, total]\n",
        "        2. Indexing the appropriate columns of that identity matrix\n",
        "    \"\"\"\n",
        "    I = np.eye(total)\n",
        "    return I[indicies]\n",
        "\n",
        "def softmax(x):\n",
        "    \"\"\"\n",
        "    Compute the softmax of vector x, or row-wise for a matrix x.\n",
        "    We subtract x.max(axis=0) from each row for numerical stability.\n",
        "    \"\"\"\n",
        "    x = x.T\n",
        "    exps = np.exp(x - x.max(axis=0))\n",
        "    probs = exps / np.sum(exps, axis=0)\n",
        "    return probs.T\n",
        "\n",
        "def get_batch(data, range_min, range_max, onehot=True):\n",
        "    \"\"\"\n",
        "    Convert one batch of data in the form of 4-grams into input and output\n",
        "    data and return the training data (xs, ts) where:\n",
        "     - `xs` is an numpy array of one-hot vectors of shape [batch_size, 3, 250]\n",
        "     - `ts` is either\n",
        "            - a numpy array of shape [batch_size, 250] if onehot is True,\n",
        "            - a numpy array of shape [batch_size] containing indicies otherwise\n",
        "\n",
        "    Preconditions:\n",
        "     - `data` is a numpy array of shape [N, 4] produced by a call\n",
        "        to `process_data`\n",
        "     - range_max > range_min\n",
        "    \"\"\"\n",
        "    xs = data[range_min:range_max, :3]\n",
        "    xs = make_onehot(xs)\n",
        "    ts = data[range_min:range_max, 3]\n",
        "    if onehot:\n",
        "        ts = make_onehot(ts).reshape(-1, 250)\n",
        "    return xs, ts\n",
        "\n",
        "def estimate_accuracy(model, data, batch_size=5000, max_N=100000):\n",
        "    \"\"\"\n",
        "    Estimate the accuracy of the model on the data. To reduce\n",
        "    computation time, use at most `max_N` elements of `data` to\n",
        "    produce the estimate.\n",
        "    \"\"\"\n",
        "    correct = 0\n",
        "    N = 0\n",
        "    for i in range(0, data.shape[0], batch_size):\n",
        "        xs, ts = get_batch(data, i, i + batch_size, onehot=False)\n",
        "        y = model(xs)\n",
        "        pred = np.argmax(y, axis=1)\n",
        "        correct += np.sum(ts == pred)\n",
        "        N += ts.shape[0]\n",
        "\n",
        "        if N > max_N:\n",
        "            break\n",
        "    return correct / N"
      ],
      "execution_count": 0,
      "outputs": []
    },
    {
      "cell_type": "markdown",
      "metadata": {
        "id": "EquUpUkJsDDh",
        "colab_type": "text"
      },
      "source": [
        "### Part (a) -- 2 point\n",
        "\n",
        "Your first task is to implement MLP model in Numpy.\n",
        "This model is very similar to the one we built in Tutorial 5. However, we will\n",
        "write our code differently from Tutorial 5, so that the class methods and APIs\n",
        "are similar to that of PyTorch. This is to give you some intuition about what\n",
        "PyTorch is doing under the hood.\n",
        "\n",
        "We already wrote code for the backward pass for this model in Tutorial 5, so the\n",
        "code is given to you. To make sure you understand how the model works, \n",
        "**write the code to compute the forward pass**."
      ]
    },
    {
      "cell_type": "code",
      "metadata": {
        "id": "CvRKRTx0sDDj",
        "colab_type": "code",
        "colab": {}
      },
      "source": [
        "class NumpyMLPModel(object):\n",
        "    def __init__(self, num_features=250*3, num_hidden=400, num_classes=250):\n",
        "        \"\"\"\n",
        "        Initialize the weights and biases of this two-layer MLP.\n",
        "        \"\"\"\n",
        "        self.num_features = num_features\n",
        "        self.num_hidden = num_hidden\n",
        "        self.num_classes = num_classes\n",
        "        self.weights1 = np.zeros([num_hidden, num_features])\n",
        "        self.bias1 = np.zeros([num_hidden])\n",
        "        self.weights2 = np.zeros([num_classes, num_hidden])\n",
        "        self.bias2 = np.zeros([num_classes])\n",
        "        self.cleanup()\n",
        "\n",
        "    def initializeParams(self):\n",
        "        \"\"\"\n",
        "        Initialize the weights and biases of this two-layer MLP to be random.\n",
        "        This random initialization is necessary to break the symmetry in the\n",
        "        gradient descent update for our hidden weights and biases. If all our\n",
        "        weights were initialized to the same value, then their gradients will\n",
        "        all be the same!\n",
        "        \"\"\"\n",
        "        self.weights1 = np.random.normal(0, 2/self.num_features, self.weights1.shape)\n",
        "        self.bias1 = np.random.normal(0, 2/self.num_features, self.bias1.shape)\n",
        "        self.weights2 = np.random.normal(0, 2/self.num_hidden, self.weights2.shape)\n",
        "        self.bias2 = np.random.normal(0, 2/self.num_hidden, self.bias2.shape)\n",
        "\n",
        "    def forward(self, inputs):\n",
        "        \"\"\"\n",
        "        Compute the forward pass prediction for inputs.\n",
        "        Note that `inputs` will be a rank-3 numpy array with shape [N, 3, 250],\n",
        "        so we will need to flatten the tensor to [N, 750] first.\n",
        "\n",
        "        For the ReLU activation, you may find the function `np.maximum` helpful\n",
        "        \"\"\"\n",
        "        X = inputs.reshape([-1, 750])\n",
        "\n",
        "        # TODO:\n",
        "        \"\"\"\n",
        "        Weights1: num_hidden x num_features\n",
        "        X: num_inputs x num_features\n",
        "        z1: num_inputs x num_hidden\n",
        "        \n",
        "        weights2: num_classes x num_hidden\n",
        "        z2: num_inputs x num_classes\n",
        "        \"\"\"\n",
        "\n",
        "        self.N = X.shape[0]\n",
        "        self.X = X\n",
        "        big_bias1 = np.tile(self.bias1, (self.N, 1))\n",
        "        self.z1 = np.matmul(self.X, self.weights1.T)+big_bias1\n",
        "        test = np.zeros(self.z1.shape)\n",
        "        self.h = np.maximum(test, self.z1) #Applying relu\n",
        "        big_bias2 = np.tile(self.bias2, (self.N, 1))\n",
        "        self.z2 = np.matmul(self.h, self.weights2.T)+big_bias2\n",
        "        self.y = softmax(self.z2)\n",
        "        return self.y\n",
        "\n",
        "    def __call__(self, inputs):\n",
        "        \"\"\"\n",
        "        To be compatible with PyTorch API. With this code, the following two\n",
        "        calls are identical:\n",
        "\n",
        "        >>> m = TwoLayerMLP()\n",
        "        >>> m.forward(inputs)\n",
        "\n",
        "        and \n",
        "\n",
        "        >>> m = TwoLayerMLP()\n",
        "        >>> m(inputs)\n",
        "        \"\"\"\n",
        "        return self.forward(inputs)\n",
        "\n",
        "    def backward(self, ts):\n",
        "        \"\"\"\n",
        "        Compute the backward pass, given the ground-truth, one-hot targets.\n",
        "        Note that `ts` needs to be a rank 2 numpy array with shape [N, 250].\n",
        "        \"\"\"\n",
        "        self.z2_bar = (self.y - ts) / self.N\n",
        "        self.w2_bar = np.dot(self.z2_bar.T, self.h)\n",
        "        self.b2_bar = np.dot(self.z2_bar.T, np.ones(self.N))\n",
        "        self.h_bar = np.matmul(self.z2_bar, self.weights2)\n",
        "        self.z1_bar = self.h_bar * (self.z1 > 0)\n",
        "        self.w1_bar = np.dot(self.z1_bar.T, self.X)\n",
        "        self.b1_bar = np.dot(self.z1_bar.T, np.ones(self.N))\n",
        "\n",
        "    def update(self, alpha):\n",
        "        \"\"\"\n",
        "        Compute the gradient descent update for the parameters.\n",
        "        \"\"\"\n",
        "        self.weights1 = self.weights1 - alpha * self.w1_bar\n",
        "        self.bias1    = self.bias1    - alpha * self.b1_bar\n",
        "        self.weights2 = self.weights2 - alpha * self.w2_bar\n",
        "        self.bias2    = self.bias2    - alpha * self.b2_bar\n",
        "\n",
        "    def cleanup(self):\n",
        "        \"\"\"\n",
        "        Erase the values of the variables that we use in our computation.\n",
        "        \"\"\"\n",
        "        self.N = None\n",
        "        self.X = None\n",
        "        self.z1 = None\n",
        "        self.h = None\n",
        "        self.z2 = None\n",
        "        self.y = None\n",
        "        self.z2_bar = None\n",
        "        self.w2_bar = None\n",
        "        self.b2_bar = None\n",
        "        self.h_bar = None\n",
        "        self.z1_bar = None\n",
        "        self.w1_bar = None\n",
        "        self.b1_bar = None"
      ],
      "execution_count": 0,
      "outputs": []
    },
    {
      "cell_type": "markdown",
      "metadata": {
        "id": "CGkSo2o4sDDr",
        "colab_type": "text"
      },
      "source": [
        "### Part (b) -- 2 points\n",
        "\n",
        "Complete the `run_gradient_descent` function. Train your numpy MLP model \n",
        "to obtain a training accuracy of at least 25%. You do not need to train\n",
        "this model to convergence."
      ]
    },
    {
      "cell_type": "code",
      "metadata": {
        "id": "4oqbacIFsDDt",
        "colab_type": "code",
        "outputId": "932276c7-6756-4495-a9d2-28841c8fc66b",
        "colab": {
          "base_uri": "https://localhost:8080/",
          "height": 384
        }
      },
      "source": [
        "def run_gradient_descent(model,\n",
        "                         train_data=train4grams,\n",
        "                         validation_data=valid4grams,\n",
        "                         batch_size=100,\n",
        "                         learning_rate=0.1,\n",
        "                         max_iters=5000):\n",
        "    \"\"\"\n",
        "    Use gradient descent to train the numpy model on the dataset train4grams.\n",
        "    \"\"\"\n",
        "    n = 0\n",
        "    while n < max_iters:\n",
        "        # shuffle the training data, and break early if we don't have\n",
        "        # enough data to remaining in the batch\n",
        "        np.random.shuffle(train_data)\n",
        "        for i in range(0, train_data.shape[0], batch_size):\n",
        "            if (i + batch_size) > train_data.shape[0]:\n",
        "                break\n",
        "\n",
        "            # get the input and targets of a minibatch\n",
        "            xs, ts = get_batch(train_data, i, i + batch_size, onehot=True)\n",
        "\n",
        "            # forward pass: compute prediction\n",
        "\n",
        "            # TODO: add your code here\n",
        "            y = model.forward(xs)\n",
        "\n",
        "            # backward pass: compute error \n",
        "            \n",
        "            # TODO: add your code here\n",
        "            model.backward(ts)\n",
        "            model.update(learning_rate)\n",
        "            model.cleanup()\n",
        "\n",
        "            # increment the iteration count\n",
        "            n += 1\n",
        "\n",
        "            # compute and plot the *validation* loss and accuracy\n",
        "            if (n % 100 == 0):\n",
        "                train_cost = -np.sum(ts * np.log(y)) / batch_size\n",
        "                #train_acc = estimate_accuracy(model, train_data)\n",
        "                #val_acc = estimate_accuracy(model, validation_data)\n",
        "                train_acc = estimate_accuracy(model, train_data, max_N=100)\n",
        "                val_acc = estimate_accuracy(model, validation_data, max_N=100)\n",
        "                model.cleanup()\n",
        "                print(\"Iter %d. [Val Acc %.0f%%] [Train Acc %.0f%%, Loss %f]\" % (\n",
        "                      n, val_acc * 100, train_acc * 100, train_cost))\n",
        "\n",
        "            if n >= max_iters:\n",
        "                return\n",
        "\n",
        "\n",
        "numpy_mlp = NumpyMLPModel()\n",
        "numpy_mlp.initializeParams()\n",
        "run_gradient_descent(numpy_mlp, batch_size=100, max_iters=2000, learning_rate=0.5)"
      ],
      "execution_count": 18,
      "outputs": [
        {
          "output_type": "stream",
          "text": [
            "Iter 100. [Val Acc 17%] [Train Acc 16%, Loss 4.504667]\n",
            "Iter 200. [Val Acc 17%] [Train Acc 16%, Loss 4.412254]\n",
            "Iter 300. [Val Acc 18%] [Train Acc 17%, Loss 4.097243]\n",
            "Iter 400. [Val Acc 21%] [Train Acc 19%, Loss 4.234133]\n",
            "Iter 500. [Val Acc 22%] [Train Acc 21%, Loss 3.991362]\n",
            "Iter 600. [Val Acc 23%] [Train Acc 22%, Loss 4.230258]\n",
            "Iter 700. [Val Acc 23%] [Train Acc 23%, Loss 3.755947]\n",
            "Iter 800. [Val Acc 25%] [Train Acc 24%, Loss 3.836391]\n",
            "Iter 900. [Val Acc 25%] [Train Acc 24%, Loss 3.690485]\n",
            "Iter 1000. [Val Acc 26%] [Train Acc 25%, Loss 4.005043]\n",
            "Iter 1100. [Val Acc 25%] [Train Acc 25%, Loss 3.235973]\n",
            "Iter 1200. [Val Acc 26%] [Train Acc 26%, Loss 3.606198]\n",
            "Iter 1300. [Val Acc 26%] [Train Acc 26%, Loss 3.479657]\n",
            "Iter 1400. [Val Acc 27%] [Train Acc 26%, Loss 3.258295]\n",
            "Iter 1500. [Val Acc 27%] [Train Acc 27%, Loss 3.533569]\n",
            "Iter 1600. [Val Acc 28%] [Train Acc 27%, Loss 3.408738]\n",
            "Iter 1700. [Val Acc 28%] [Train Acc 27%, Loss 3.349905]\n",
            "Iter 1800. [Val Acc 28%] [Train Acc 27%, Loss 3.213809]\n",
            "Iter 1900. [Val Acc 29%] [Train Acc 27%, Loss 3.551513]\n",
            "Iter 2000. [Val Acc 29%] [Train Acc 27%, Loss 3.200248]\n"
          ],
          "name": "stdout"
        }
      ]
    },
    {
      "cell_type": "markdown",
      "metadata": {
        "id": "Gr7rGeojsDDz",
        "colab_type": "text"
      },
      "source": [
        "### Part (c) -- 2 pts\n",
        "\n",
        "We will do build the same model in PyTorch. Since PyTorch uses automatic\n",
        "differentiation, we only need to write the *forward pass* of our\n",
        "model. Complete the `forward` function below:"
      ]
    },
    {
      "cell_type": "code",
      "metadata": {
        "id": "LJCT1cdhsDD1",
        "colab_type": "code",
        "colab": {}
      },
      "source": [
        "class PyTorchMLP(nn.Module):\n",
        "    def __init__(self, num_hidden=400):\n",
        "        super(PyTorchMLP, self).__init__()\n",
        "        self.layer1 = nn.Linear(750, num_hidden)\n",
        "        self.layer2 = nn.Linear(num_hidden, 250)\n",
        "        self.num_hidden = num_hidden\n",
        "    def forward(self, inp):\n",
        "        inp = inp.reshape([-1, 750])\n",
        "        # TODO: complete this function\n",
        "\n",
        "        #Forward pass into first layer\n",
        "        z1 = torch.relu(self.layer1(inp))\n",
        "        #Pass into second layer\n",
        "        return self.layer2(z1)\n"
      ],
      "execution_count": 0,
      "outputs": []
    },
    {
      "cell_type": "markdown",
      "metadata": {
        "id": "_hnEWbfSsDD8",
        "colab_type": "text"
      },
      "source": [
        "### Part (d) -- 4 pts\n",
        "\n",
        "We'll write similar code to train the PyTorch model. With a few differences:\n",
        "\n",
        "1. We will use a slightly fancier optimizer called **Adam**. For this optimizer,\n",
        "   a smaller learning rate usually works better, so the default learning\n",
        "   rate is set to 0.001.\n",
        "2. Since we get weight decay for free, you are welcome to use weight decay.\n",
        "\n",
        "Complete the function `run_pytorch_gradient_descent`, and use it to train\n",
        "your PyTorch MLP model to obtain a training accuracy of at least 38%.\n",
        "Plot the learning curve using the `plot_learning_curve` function provided\n",
        "to you, and include your plot in your PDF submission."
      ]
    },
    {
      "cell_type": "code",
      "metadata": {
        "id": "hRZG3o5FsDEA",
        "colab_type": "code",
        "colab": {}
      },
      "source": [
        "def estimate_accuracy_torch(model, data, batch_size=5000, max_N=100000):\n",
        "    \"\"\"\n",
        "    Estimate the accuracy of the model on the data. To reduce\n",
        "    computation time, use at most `max_N` elements of `data` to\n",
        "    produce the estimate.\n",
        "    \"\"\"\n",
        "    correct = 0\n",
        "    N = 0\n",
        "    for i in range(0, data.shape[0], batch_size):\n",
        "        # get a batch of data\n",
        "        xs, ts = get_batch(data, i, i + batch_size, onehot=False)\n",
        "        \n",
        "        # forward pass prediction\n",
        "        y = model(torch.Tensor(xs))\n",
        "        y = y.detach().numpy() # convert the PyTorch tensor => numpy array\n",
        "        pred = np.argmax(y, axis=1)\n",
        "        correct += np.sum(pred == ts)\n",
        "        N += ts.shape[0]\n",
        "\n",
        "        if N > max_N:\n",
        "            break\n",
        "    return correct / N\n",
        "\n",
        "def run_pytorch_gradient_descent(model,\n",
        "                                 train_data=train4grams,\n",
        "                                 validation_data=valid4grams,\n",
        "                                 batch_size=100,\n",
        "                                 learning_rate=0.001,\n",
        "                                 weight_decay=0,\n",
        "                                 max_iters=1000,\n",
        "                                 checkpoint_path=None):\n",
        "    \"\"\"\n",
        "    Train the PyTorch model on the dataset `train_data`, reporting\n",
        "    the validation accuracy on `validation_data`, for `max_iters`\n",
        "    iteration.\n",
        "\n",
        "    If you want to **checkpoint** your model weights (i.e. save the\n",
        "    model weights to Google Drive), then the parameter\n",
        "    `checkpoint_path` should be a string path with `{}` to be replaced\n",
        "    by the iteration count:\n",
        "\n",
        "    For example, calling \n",
        "\n",
        "    >>> run_pytorch_gradient_descent(model, ...,\n",
        "            checkpoint_path = '/content/gdrive/My Drive/CSC321/mlp/ckpt-{}.pk')\n",
        "\n",
        "    will save the model parameters in Google Drive every 500 iterations.\n",
        "    You will have to make sure that the path exists (i.e. you'll need to create\n",
        "    the folder CSC321, mlp, etc...). Your Google Drive will be populated with files:\n",
        "\n",
        "    - /content/gdrive/My Drive/CSC321/mlp/ckpt-500.pk\n",
        "    - /content/gdrive/My Drive/CSC321/mlp/ckpt-1000.pk\n",
        "    - ...\n",
        "\n",
        "    To load the weights at a later time, you can run:\n",
        "\n",
        "    >>> model.load_state_dict(torch.load('/content/gdrive/My Drive/CSC321/mlp/ckpt-500.pk'))\n",
        "\n",
        "    This function returns the training loss, and the training/validation accuracy,\n",
        "    which we can use to plot the learning curve.\n",
        "    \"\"\"\n",
        "    criterion = nn.CrossEntropyLoss()\n",
        "    optimizer = optim.Adam(model.parameters(),\n",
        "                           lr=learning_rate,\n",
        "                           weight_decay=weight_decay)\n",
        "\n",
        "    iters, losses = [], []\n",
        "    iters_sub, train_accs, val_accs  = [], [] ,[]\n",
        "\n",
        "    n = 0 # the number of iterations\n",
        "    while True:\n",
        "        for i in range(0, train_data.shape[0], batch_size):\n",
        "            if (i + batch_size) > train_data.shape[0]:\n",
        "                break\n",
        "\n",
        "            # get the input and targets of a minibatch\n",
        "            xs, ts = get_batch(train_data, i, i + batch_size, onehot=False)\n",
        "\n",
        "            # convert from numpy arrays to PyTorch tensors\n",
        "            xs = torch.Tensor(xs)\n",
        "            ts = torch.Tensor(ts).long()\n",
        "\n",
        "            zs = model(xs)                 # compute prediction logit\n",
        "            loss = criterion(zs, ts)                  # compute the total loss\n",
        "            loss.backward()                      # compute updates for each parameter\n",
        "            optimizer.step()                      # make the updates for each parameter\n",
        "            optimizer.zero_grad()                      # a clean up step for PyTorch\n",
        "\n",
        "            # save the current training information\n",
        "            iters.append(n)\n",
        "            losses.append(float(loss)/batch_size)  # compute *average* loss\n",
        "\n",
        "            if n % 500 == 0:\n",
        "                iters_sub.append(n)\n",
        "                train_cost = float(loss.detach().numpy())\n",
        "                train_acc = estimate_accuracy_torch(model, train_data, batch_size=10, max_N=100)\n",
        "                train_accs.append(train_acc)\n",
        "                val_acc = estimate_accuracy_torch(model, validation_data, batch_size=10, max_N=100)\n",
        "                val_accs.append(val_acc)\n",
        "                print(\"Iter %d. [Val Acc %.0f%%] [Train Acc %.0f%%, Loss %f]\" % (\n",
        "                      n, val_acc * 100, train_acc * 100, train_cost))\n",
        "\n",
        "                if (checkpoint_path is not None) and n > 0:\n",
        "                    torch.save(model.state_dict(), checkpoint_path.format(n))\n",
        "\n",
        "            # increment the iteration number\n",
        "            n += 1\n",
        "\n",
        "            if n > max_iters:\n",
        "                return iters, losses, iters_sub, train_accs, val_accs\n",
        "\n",
        "\n",
        "def plot_learning_curve(iters, losses, iters_sub, train_accs, val_accs):\n",
        "    \"\"\"\n",
        "    Plot the learning curve.\n",
        "    \"\"\"\n",
        "    plt.title(\"Learning Curve: Loss per Iteration\")\n",
        "    plt.plot(iters, losses, label=\"Train\")\n",
        "    plt.xlabel(\"Iterations\")\n",
        "    plt.ylabel(\"Loss\")\n",
        "    plt.show()\n",
        "\n",
        "    plt.title(\"Learning Curve: Accuracy per Iteration\")\n",
        "    plt.plot(iters_sub, train_accs, label=\"Train\")\n",
        "    plt.plot(iters_sub, val_accs, label=\"Validation\")\n",
        "    plt.xlabel(\"Iterations\")\n",
        "    plt.ylabel(\"Accuracy\")\n",
        "    plt.legend(loc='best')\n",
        "    plt.show()"
      ],
      "execution_count": 0,
      "outputs": []
    },
    {
      "cell_type": "code",
      "metadata": {
        "id": "zDAY3u2SsDEG",
        "colab_type": "code",
        "outputId": "0b2a6f49-7082-4169-ec92-9c1f516c9520",
        "colab": {
          "base_uri": "https://localhost:8080/",
          "height": 775
        }
      },
      "source": [
        "pytorch_mlp = PyTorchMLP()\n",
        "learning_curve_info = run_pytorch_gradient_descent(pytorch_mlp, batch_size=200, weight_decay=0, max_iters=5000, learning_rate=0.001, checkpoint_path='/content/gdrive/My Drive/CSC321/mlp/ckpt-{}.pk')\n",
        "\n",
        "# you might want to save the `learning_curve_info` somewhere, so that you can plot\n",
        "# the learning curve prior to exporting your PDF file\n",
        "\n",
        "plot_learning_curve(*learning_curve_info)"
      ],
      "execution_count": 28,
      "outputs": [
        {
          "output_type": "stream",
          "text": [
            "Iter 0. [Val Acc 2%] [Train Acc 5%, Loss 5.519195]\n",
            "Iter 500. [Val Acc 27%] [Train Acc 26%, Loss 2.964610]\n",
            "Iter 1000. [Val Acc 31%] [Train Acc 28%, Loss 2.780205]\n",
            "Iter 1500. [Val Acc 30%] [Train Acc 33%, Loss 2.705700]\n",
            "Iter 2000. [Val Acc 31%] [Train Acc 33%, Loss 2.576844]\n",
            "Iter 2500. [Val Acc 35%] [Train Acc 32%, Loss 2.764725]\n",
            "Iter 3000. [Val Acc 33%] [Train Acc 31%, Loss 2.754182]\n",
            "Iter 3500. [Val Acc 34%] [Train Acc 28%, Loss 2.680690]\n",
            "Iter 4000. [Val Acc 32%] [Train Acc 31%, Loss 2.724346]\n",
            "Iter 4500. [Val Acc 34%] [Train Acc 31%, Loss 2.739720]\n",
            "Iter 5000. [Val Acc 36%] [Train Acc 35%, Loss 2.390934]\n"
          ],
          "name": "stdout"
        },
        {
          "output_type": "display_data",
          "data": {
            "image/png": "[encoded data removed]",
            "text/plain": [
              "<Figure size 432x288 with 1 Axes>"
            ]
          },
          "metadata": {
            "tags": []
          }
        },
        {
          "output_type": "display_data",
          "data": {
            "image/png": "[encoded data removed]",
            "text/plain": [
              "<Figure size 432x288 with 1 Axes>"
            ]
          },
          "metadata": {
            "tags": []
          }
        }
      ]
    },
    {
      "cell_type": "markdown",
      "metadata": {
        "id": "jt2IdsLUsDEL",
        "colab_type": "text"
      },
      "source": [
        "### Part (e) -- 3 points\n",
        "\n",
        "Write a function `make_prediction` that takes as parameters\n",
        "a PyTorchMLP model and sentence (a list of words), and produces\n",
        "a prediction for the next word in the sentence.\n",
        "\n",
        "Start by thinking about what you need to do, step by step, taking\n",
        "care of the difference between a numpy array and a PyTorch Tensor."
      ]
    },
    {
      "cell_type": "code",
      "metadata": {
        "id": "UZSnG4DcsDEP",
        "colab_type": "code",
        "colab": {}
      },
      "source": [
        "def make_prediction_torch(model, sentence):\n",
        "    \"\"\"\n",
        "    Use the model to make a prediction for the next word in the\n",
        "    sentence using the last 3 words (sentence[:-3]). You may assume\n",
        "    that len(sentence) >= 3 and that `model` is an instance of\n",
        "    PYTorchMLP.\n",
        "\n",
        "    This function should return the next word, represented as a string.\n",
        "\n",
        "    Example call:\n",
        "    >>> make_prediction_torch(pytorch_mlp, ['you', 'are', 'a'])\n",
        "    \"\"\"\n",
        "    global vocab_stoi, vocab_itos\n",
        "\n",
        "    #  Write your code here\n",
        "    indices = []\n",
        "    indices.append(vocab_stoi[sentence[-3]])\n",
        "    indices.append(vocab_stoi[sentence[-2]])\n",
        "    indices.append(vocab_stoi[sentence[-1]])\n",
        "    data = torch.tensor(make_onehot(indices).reshape([1, -1, 250])).float()\n",
        "    out = model(data).data.numpy()\n",
        "    word = np.argmax(out)\n",
        "    return vocab_itos[word]"
      ],
      "execution_count": 0,
      "outputs": []
    },
    {
      "cell_type": "markdown",
      "metadata": {
        "id": "3PK_zPbTsDEV",
        "colab_type": "text"
      },
      "source": [
        "### Part (f) -- 4 points\n",
        "\n",
        "Use your code to predict what the next word should be in each\n",
        "of the following sentences:\n",
        "\n",
        "- \"You are a\"\n",
        "- \"few companies show\"\n",
        "- \"There are no\"\n",
        "- \"yesterday i was\"\n",
        "- \"the game had\"\n",
        "- \"yesterday the federal\"\n",
        "\n",
        "Do your predictions make sense? (If all of your predictions are the same,\n",
        "train your model for more iterations, or change the hyperparameters in your\n",
        "model. You may need to do this even if your training accuracy is >=38%)\n",
        "\n",
        "One concern you might have is that our model may be \"memorizing\" information\n",
        "from the training set.  Check if each of 3-grams (the 3 words appearing next\n",
        "to each other) appear in the training set. If so, what word occurs immediately\n",
        "following those three words?"
      ]
    },
    {
      "cell_type": "code",
      "metadata": {
        "id": "r9whrKKYsDEX",
        "colab_type": "code",
        "outputId": "d107701d-53f9-4020-a361-a9fbdee9d05a",
        "colab": {
          "base_uri": "https://localhost:8080/",
          "height": 127
        }
      },
      "source": [
        "# Write your code and answers here\n",
        "print(make_prediction_torch(pytorch_mlp, ['you','are','a']))\n",
        "print(make_prediction_torch(pytorch_mlp, ['few','companies','show']))\n",
        "print(make_prediction_torch(pytorch_mlp, ['there','are','no']))\n",
        "print(make_prediction_torch(pytorch_mlp, ['yesterday','i','was']))\n",
        "print(make_prediction_torch(pytorch_mlp, ['the','game','had']))\n",
        "print(make_prediction_torch(pytorch_mlp, ['yesterday','the','federal']))"
      ],
      "execution_count": 23,
      "outputs": [
        {
          "output_type": "stream",
          "text": [
            "good\n",
            ".\n",
            "other\n",
            "nt\n",
            "to\n",
            "government\n"
          ],
          "name": "stdout"
        }
      ]
    },
    {
      "cell_type": "markdown",
      "metadata": {
        "id": "t1ttJ0xNsDEd",
        "colab_type": "text"
      },
      "source": [
        "### Part (g) -- 1 points\n",
        "\n",
        "Report the test accuracy of your model"
      ]
    },
    {
      "cell_type": "code",
      "metadata": {
        "id": "95juKs_NsDEf",
        "colab_type": "code",
        "outputId": "b29631d8-c0ac-4183-823a-40659cbe0b61",
        "colab": {
          "base_uri": "https://localhost:8080/",
          "height": 35
        }
      },
      "source": [
        "# Write your code here\n",
        "test_acc = estimate_accuracy_torch(pytorch_mlp, test4grams)\n",
        "print(\"Test accuracy = \"+str(test_acc))\n"
      ],
      "execution_count": 24,
      "outputs": [
        {
          "output_type": "stream",
          "text": [
            "Test accuracy = 0.3669136833315938\n"
          ],
          "name": "stdout"
        }
      ]
    },
    {
      "cell_type": "markdown",
      "metadata": {
        "id": "J3tbCLmPsDEl",
        "colab_type": "text"
      },
      "source": [
        "## Question 3. Learning Word Embeddings\n",
        "\n",
        "In this section, we will build a slightly different model with a different\n",
        "architecture. In particular, we will first compute a lower-dimensional\n",
        "*representation* of the three words, before using a multi-layer perceptron.\n",
        "\n",
        "Our model will look like this:\n",
        "\n",
        "<img src=\"https://www.cs.toronto.edu/~lczhang/321/hw/p2_model2.png\" />\n",
        "\n",
        "This model has 3 layers instead of 2, but the first layer of the network\n",
        "is **not** fully-connected. Instead, we compute the representations of each\n",
        "of the three words **separately**. In addition, the first layer of the network\n",
        "will not use any biases. The reason for this will be clear in question 4.\n"
      ]
    },
    {
      "cell_type": "markdown",
      "metadata": {
        "id": "x_6jL5a__esa",
        "colab_type": "text"
      },
      "source": [
        "### Part (a) - 10 pts\n",
        "\n",
        "Complete the methods in `NumpyWordEmbModel`."
      ]
    },
    {
      "cell_type": "code",
      "metadata": {
        "id": "OTDbVdQ48M6f",
        "colab_type": "code",
        "outputId": "a6a18b3a-ecbf-422d-a47d-dccf9cdd4db3",
        "colab": {
          "base_uri": "https://localhost:8080/",
          "height": 274
        }
      },
      "source": [
        ""
      ],
      "execution_count": 0,
      "outputs": [
        {
          "output_type": "stream",
          "text": [
            "[[[ 0  1  2]\n",
            "  [ 3  4  5]\n",
            "  [ 6  7  8]]\n",
            "\n",
            " [[ 9 10 11]\n",
            "  [12 13 14]\n",
            "  [15 16 17]]\n",
            "\n",
            " [[18 19 20]\n",
            "  [21 22 23]\n",
            "  [24 25 26]]]\n",
            "[[ 0  1  2  3  4  5  6  7  8]\n",
            " [ 9 10 11 12 13 14 15 16 17]\n",
            " [18 19 20 21 22 23 24 25 26]]\n"
          ],
          "name": "stdout"
        }
      ]
    },
    {
      "cell_type": "code",
      "metadata": {
        "id": "AeFZI6xQsDEm",
        "colab_type": "code",
        "colab": {}
      },
      "source": [
        "class NumpyWordEmbModel(object):\n",
        "    def __init__(self, vocab_size=250, emb_size=100, num_hidden=100):\n",
        "        self.vocab_size = vocab_size\n",
        "        self.emb_size = emb_size\n",
        "        self.num_hidden = num_hidden\n",
        "        self.emb_weights = np.zeros([emb_size, vocab_size]) # no biases in this layer\n",
        "        self.weights1 = np.zeros([num_hidden, emb_size * 3])\n",
        "        self.bias1 = np.zeros([num_hidden])\n",
        "        self.weights2 = np.zeros([vocab_size, num_hidden])\n",
        "        self.bias2 = np.zeros([vocab_size])\n",
        "        self.cleanup()\n",
        "\n",
        "    def initializeParams(self):\n",
        "        \"\"\"\n",
        "        Randomly initialize the weights and biases of this two-layer MLP.\n",
        "        The randomization is necessary so that each weight is updated to\n",
        "        a different value.\n",
        "        \"\"\"\n",
        "        self.emb_weights = np.random.normal(0, 2/self.num_hidden, self.emb_weights.shape)\n",
        "        self.weights1 = np.random.normal(0, 2/self.num_features, self.weights1.shape)\n",
        "        self.bias1 = np.random.normal(0, 2/self.num_features, self.bias1.shape)\n",
        "        self.weights2 = np.random.normal(0, 2/self.num_hidden, self.weights2.shape)\n",
        "        self.bias2 = np.random.normal(0, 2/self.num_hidden, self.bias2.shape)\n",
        "\n",
        "    def forward(self, inputs):\n",
        "        \"\"\"\n",
        "        Compute the forward pass prediction for inputs.\n",
        "        Note that `inputs` will be a rank-3 numpy array with shape [N, 3, 250].\n",
        "\n",
        "        For numerical stability reasons, we **do not** apply the softmax\n",
        "        activation in the forward function. The loss function assumes that \n",
        "        we return the logits from this function.\n",
        "        \"\"\"\n",
        "\n",
        "        #Get activation values for the first hidden layer\n",
        "        #Get activation values for the output layer\n",
        "        #250 is the number of words\n",
        "\n",
        "        X = inputs.reshape([-1, 3*250])\n",
        "\n",
        "        z0 = np.zeros([self.emb_weights.shape[0], 1])\n",
        "        z1 = np.zeros([self.weights1.shape[0], 1])\n",
        "        z2 = np.zeros([self.weights2.shape[1], 1))\n",
        "\n",
        "\n",
        "        \n",
        "        # TODO\n",
        "\n",
        "    def __call__(self, inputs):\n",
        "        return self.forward(inputs)\n",
        "\n",
        "    def backward(self, ts):\n",
        "        \"\"\"\n",
        "        Compute the backward pass, given the ground-truth, one-hot targets.\n",
        "        Note that `ts` needs to be a rank 2 numpy array with shape [N, 250].\n",
        "\n",
        "        Remember the multivariate chain rule: if a weight affects the loss\n",
        "        through different paths, then the error signal from all the paths\n",
        "        must be added together.\n",
        "        \"\"\"\n",
        "        # TODO\n",
        "\n",
        "    def update(self, alpha):\n",
        "        \"\"\"\n",
        "        Compute the gradient descent update for the parameters.\n",
        "        \"\"\"\n",
        "        # TODO\n",
        "\n",
        "    def cleanup(self):\n",
        "        \"\"\"\n",
        "        Erase the values of the variables that we use in our computation.\n",
        "        \"\"\"\n",
        "        # TODO"
      ],
      "execution_count": 0,
      "outputs": []
    },
    {
      "cell_type": "markdown",
      "metadata": {
        "id": "RHgyAipUsDEr",
        "colab_type": "text"
      },
      "source": [
        "### Part (b) -- 1 pts\n",
        "\n",
        "One strategy that machine learning practitioners use to debug their code\n",
        "is to *first try to overfit their model to a small training set*. If the\n",
        "gradient computation is correct and the data is encoded properly, then your\n",
        "model should easily achieve 100% training accuracy on a small training set.\n",
        "\n",
        "Show that your model is implemented correctly by showing that your model\n",
        "can achieve an 100% training accuracy within a few hundred iterations, when\n",
        "using a small training set (e.g. one batch)."
      ]
    },
    {
      "cell_type": "code",
      "metadata": {
        "id": "fKRoMCVXsDEr",
        "colab_type": "code",
        "colab": {}
      },
      "source": [
        "numpy_wordemb = NumpyWordEmbModel()\n",
        "run_pytorch_gradient_descent(numpy_wordemb, train4grams[:64], batch_size=64, ...)"
      ],
      "execution_count": 0,
      "outputs": []
    },
    {
      "cell_type": "markdown",
      "metadata": {
        "id": "mcW9jxbksDEy",
        "colab_type": "text"
      },
      "source": [
        "### Part (c) -- 2 pts\n",
        "\n",
        "Train your model from part (a) to obtain a training accuracy of at least 25%."
      ]
    },
    {
      "cell_type": "code",
      "metadata": {
        "id": "t-OXmyn_sDE1",
        "colab_type": "code",
        "colab": {}
      },
      "source": [
        "# Your code goes here"
      ],
      "execution_count": 0,
      "outputs": []
    },
    {
      "cell_type": "markdown",
      "metadata": {
        "id": "8lbNtm_LsDE-",
        "colab_type": "text"
      },
      "source": [
        "### Part (d) -- 2 pts\n",
        "\n",
        "The PyTorch version of the model is implemented for you. Use \n",
        "`run_pytorch_gradient_descent` to train\n",
        "your PyTorch MLP model to obtain a training accuracy of at least 38%.\n",
        "Plot the learning curve using the `plot_learning_curve` function provided\n",
        "to you, and include your plot in your PDF submission.\n",
        "\n",
        "Make sure that you checkpoint frequently. We will be using ..."
      ]
    },
    {
      "cell_type": "code",
      "metadata": {
        "id": "HmO1qDXMsDFB",
        "colab_type": "code",
        "colab": {}
      },
      "source": [
        "class PyTorchWordEmb(nn.Module):\n",
        "    def __init__(self, emb_size=100, num_hidden=300, vocab_size=250):\n",
        "        super(PyTorchWordEmb, self).__init__()\n",
        "        self.word_emb_layer = nn.Linear(vocab_size, emb_size, bias=False)\n",
        "        self.fc_layer1 = nn.Linear(emb_size * 3, num_hidden)\n",
        "        self.fc_layer2 = nn.Linear(num_hidden, 250)\n",
        "        self.num_hidden = num_hidden\n",
        "        self.emb_size = emb_size\n",
        "    def forward(self, inp):\n",
        "        embeddings = torch.relu(self.word_emb_layer(inp))\n",
        "        embeddings = embeddings.reshape([-1, self.emb_size * 3])\n",
        "        hidden = torch.relu(self.fc_layer1(embeddings))\n",
        "        return self.fc_layer2(hidden)\n",
        "\n",
        "# pytorch_wordemb= PyTorchWordEmb()\n",
        "\n",
        "# result = run_pytorch_gradient_descent(pytorch_wordemb,\n",
        "#                                       max_iters=20000,\n",
        "#                                       ...)\n",
        "\n",
        "# plot_learning_curve(*result)"
      ],
      "execution_count": 0,
      "outputs": []
    },
    {
      "cell_type": "markdown",
      "metadata": {
        "id": "2MO4VHzxsDFF",
        "colab_type": "text"
      },
      "source": [
        "### Part (e) -- 2 pts\n",
        "\n",
        "Use the function `make_prediction` that you wrote earlier to  \n",
        "predict what the next word should be in each of the following sentences:\n",
        "\n",
        "- \"You are a\"\n",
        "- \"few companies show\"\n",
        "- \"There are no\"\n",
        "- \"yesterday i was\"\n",
        "- \"the game had\"\n",
        "- \"yesterday the federal\"\n",
        "\n",
        "How do these predictions compared to the previous model?\n",
        "\n",
        "Just like before, if all of your predictions are the same,\n",
        "train your model for more iterations, or change the hyperparameters in your\n",
        "model. You may need to do this even if your training accuracy is >=38%."
      ]
    },
    {
      "cell_type": "code",
      "metadata": {
        "id": "E-aHJ62TsDFF",
        "colab_type": "code",
        "colab": {}
      },
      "source": [
        "# Your code goes here"
      ],
      "execution_count": 0,
      "outputs": []
    },
    {
      "cell_type": "markdown",
      "metadata": {
        "id": "77wk9K6nsDFL",
        "colab_type": "text"
      },
      "source": [
        "### Part (f) -- 1 pts\n",
        "\n",
        "Report the test accuracy of your model"
      ]
    },
    {
      "cell_type": "code",
      "metadata": {
        "id": "TvW2hMPVsDFM",
        "colab_type": "code",
        "colab": {}
      },
      "source": [
        "# Write your code here"
      ],
      "execution_count": 0,
      "outputs": []
    },
    {
      "cell_type": "markdown",
      "metadata": {
        "id": "VD9LUFVwsDFS",
        "colab_type": "text"
      },
      "source": [
        "## Question 4. Visualizing Word Embeddings\n",
        "\n",
        "While training the `PyTorchMLP`, we trained the `word_emb_layer`, which takes a one-hot\n",
        "representation of a word in our vocabulary, and returns a low-dimensional vector\n",
        "representation of that word. In this question, we will explore these word embeddings.\n",
        "\n",
        "### Part (a) -- 2 pts\n",
        "\n",
        "The code below extracts the **weights** of the word embedding layer,\n",
        "and converts the PyTorch tensor into an numpy array.\n",
        "Explain why each *row* of `word_emb` contains the vector representing\n",
        "of a word. For example `word_emb[vocab_stoi[\"any\"],:]` contains the\n",
        "vector representation of the word \"any\"."
      ]
    },
    {
      "cell_type": "code",
      "metadata": {
        "id": "32WiI0H3sDFT",
        "colab_type": "code",
        "colab": {}
      },
      "source": [
        "word_emb_weights = list(pytorch_wordemb.word_emb_layer.parameters())[0]\n",
        "word_emb = word_emb_weights.detach().numpy().T\n",
        "\n",
        "# Write your explanation here"
      ],
      "execution_count": 0,
      "outputs": []
    },
    {
      "cell_type": "markdown",
      "metadata": {
        "id": "IuZ5rMG_sDFY",
        "colab_type": "text"
      },
      "source": [
        "### Part (b) -- 2 pts\n",
        "\n",
        "Once interesting thing about these word embeddings is that distances\n",
        "in these vector representations of words make some sense! To show this,\n",
        "we have provided code below that computes the cosine similarity of\n",
        "every pair of words in our vocabulary. This code should look familiar,\n",
        "since we have seen it in project 1."
      ]
    },
    {
      "cell_type": "code",
      "metadata": {
        "id": "e7OJL-T7sDFZ",
        "colab_type": "code",
        "colab": {}
      },
      "source": [
        "norms = np.linalg.norm(word_emb, axis=1)\n",
        "word_emb_norm = (word_emb.T / norms).T\n",
        "similarities = np.matmul(word_emb_norm, word_emb_norm.T)\n",
        "\n",
        "# Some example distances. The first one should be larger than the second\n",
        "print(similarities[vocab_stoi['any'], vocab_stoi['many']])\n",
        "print(similarities[vocab_stoi['any'], vocab_stoi['government']])"
      ],
      "execution_count": 0,
      "outputs": []
    },
    {
      "cell_type": "markdown",
      "metadata": {
        "id": "Yzexj3E5sDFe",
        "colab_type": "text"
      },
      "source": [
        "Compute the 5 closest words to the following words:\n",
        "\n",
        "- \"four\"\n",
        "- \"go\"\n",
        "- \"what\"\n",
        "- \"should\"\n",
        "- \"school\"\n",
        "- \"your\"\n",
        "- \"yesterday\"\n",
        "- \"not\""
      ]
    },
    {
      "cell_type": "code",
      "metadata": {
        "id": "uaZnEaipsDFg",
        "colab_type": "code",
        "colab": {}
      },
      "source": [
        "# Write your code here"
      ],
      "execution_count": 0,
      "outputs": []
    },
    {
      "cell_type": "markdown",
      "metadata": {
        "id": "H2Eicd9QsDFm",
        "colab_type": "text"
      },
      "source": [
        "### Part (c) -- 2 pts\n",
        "\n",
        "We can visualize the word embeddings by reducing the dimensionality of\n",
        "the word vectors to 2D. There are many dimensionality reduction techniques\n",
        "that we could use, and we will use an algorithm called t-SNE.\n",
        "(You don’t need to know what this is for the assignment,\n",
        "but we may cover it later in the course.)\n",
        "Nearby points in this 2-D space are meant to correspond to nearby points\n",
        "in the original, high-dimensional space.\n",
        "\n",
        "The following code runs the t-SNE algorithm and plots the result.\n",
        "Look at the plot and find two clusters of related words.\n",
        "What do the words in each cluster have in common?\n",
        "\n",
        "Note that there is randomness in the initialization of the t-SNE \n",
        "algorithm. If you re-run this code, you may get a different image.\n",
        "Please make sure to submit your image in the PDF file for your TA to see."
      ]
    },
    {
      "cell_type": "code",
      "metadata": {
        "id": "pVBmQpuJsDFm",
        "colab_type": "code",
        "colab": {}
      },
      "source": [
        "import sklearn.manifold\n",
        "tsne = sklearn.manifold.TSNE()\n",
        "Y = tsne.fit_transform(word_emb)\n",
        "\n",
        "plt.figure(figsize=(10, 10))\n",
        "plt.xlim(Y[:,0].min(), Y[:, 0].max())\n",
        "plt.ylim(Y[:,1].min(), Y[:, 1].max())\n",
        "for i, w in enumerate(vocab):\n",
        "    plt.text(Y[i, 0], Y[i, 1], w)\n",
        "plt.show()"
      ],
      "execution_count": 0,
      "outputs": []
    }
  ]
}